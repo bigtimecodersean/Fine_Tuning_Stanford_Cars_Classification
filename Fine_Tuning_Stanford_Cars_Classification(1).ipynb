{
  "nbformat": 4,
  "nbformat_minor": 0,
  "metadata": {
    "colab": {
      "provenance": []
    },
    "kernelspec": {
      "name": "python3",
      "display_name": "Python 3"
    },
    "language_info": {
      "name": "python"
    },
    "accelerator": "GPU",
    "gpuClass": "standard",
    "widgets": {
      "application/vnd.jupyter.widget-state+json": {
        "21eb03380cb44daaa6bb560696d00745": {
          "model_module": "@jupyter-widgets/controls",
          "model_name": "HBoxModel",
          "model_module_version": "1.5.0",
          "state": {
            "_dom_classes": [],
            "_model_module": "@jupyter-widgets/controls",
            "_model_module_version": "1.5.0",
            "_model_name": "HBoxModel",
            "_view_count": null,
            "_view_module": "@jupyter-widgets/controls",
            "_view_module_version": "1.5.0",
            "_view_name": "HBoxView",
            "box_style": "",
            "children": [
              "IPY_MODEL_a9d069a480c5442ca41ecdd6e6ec4927",
              "IPY_MODEL_c9b4f2d45dee4f49bf50d87cf0b286fe",
              "IPY_MODEL_75e5411dcfeb4695a06761e2d06c19c5"
            ],
            "layout": "IPY_MODEL_3f6b7e2e16f44875a9feb87a0119fbbf"
          }
        },
        "a9d069a480c5442ca41ecdd6e6ec4927": {
          "model_module": "@jupyter-widgets/controls",
          "model_name": "HTMLModel",
          "model_module_version": "1.5.0",
          "state": {
            "_dom_classes": [],
            "_model_module": "@jupyter-widgets/controls",
            "_model_module_version": "1.5.0",
            "_model_name": "HTMLModel",
            "_view_count": null,
            "_view_module": "@jupyter-widgets/controls",
            "_view_module_version": "1.5.0",
            "_view_name": "HTMLView",
            "description": "",
            "description_tooltip": null,
            "layout": "IPY_MODEL_ca6a1408371747ef914817ff2f4e26c7",
            "placeholder": "​",
            "style": "IPY_MODEL_1f34fbfc84a04f60b858d14fff60e732",
            "value": "100%"
          }
        },
        "c9b4f2d45dee4f49bf50d87cf0b286fe": {
          "model_module": "@jupyter-widgets/controls",
          "model_name": "FloatProgressModel",
          "model_module_version": "1.5.0",
          "state": {
            "_dom_classes": [],
            "_model_module": "@jupyter-widgets/controls",
            "_model_module_version": "1.5.0",
            "_model_name": "FloatProgressModel",
            "_view_count": null,
            "_view_module": "@jupyter-widgets/controls",
            "_view_module_version": "1.5.0",
            "_view_name": "ProgressView",
            "bar_style": "success",
            "description": "",
            "description_tooltip": null,
            "layout": "IPY_MODEL_c8581badc39f47f3acb51a48530378e6",
            "max": 8,
            "min": 0,
            "orientation": "horizontal",
            "style": "IPY_MODEL_cd7b14284ee743aba5289ae2fc9872ae",
            "value": 8
          }
        },
        "75e5411dcfeb4695a06761e2d06c19c5": {
          "model_module": "@jupyter-widgets/controls",
          "model_name": "HTMLModel",
          "model_module_version": "1.5.0",
          "state": {
            "_dom_classes": [],
            "_model_module": "@jupyter-widgets/controls",
            "_model_module_version": "1.5.0",
            "_model_name": "HTMLModel",
            "_view_count": null,
            "_view_module": "@jupyter-widgets/controls",
            "_view_module_version": "1.5.0",
            "_view_name": "HTMLView",
            "description": "",
            "description_tooltip": null,
            "layout": "IPY_MODEL_1fd95c29cb5f429d8b51418d940cc75c",
            "placeholder": "​",
            "style": "IPY_MODEL_8dbf7c3949994c1c980476b6796461b8",
            "value": " 8/8 [06:22&lt;00:00, 49.11s/it]"
          }
        },
        "3f6b7e2e16f44875a9feb87a0119fbbf": {
          "model_module": "@jupyter-widgets/base",
          "model_name": "LayoutModel",
          "model_module_version": "1.2.0",
          "state": {
            "_model_module": "@jupyter-widgets/base",
            "_model_module_version": "1.2.0",
            "_model_name": "LayoutModel",
            "_view_count": null,
            "_view_module": "@jupyter-widgets/base",
            "_view_module_version": "1.2.0",
            "_view_name": "LayoutView",
            "align_content": null,
            "align_items": null,
            "align_self": null,
            "border": null,
            "bottom": null,
            "display": null,
            "flex": null,
            "flex_flow": null,
            "grid_area": null,
            "grid_auto_columns": null,
            "grid_auto_flow": null,
            "grid_auto_rows": null,
            "grid_column": null,
            "grid_gap": null,
            "grid_row": null,
            "grid_template_areas": null,
            "grid_template_columns": null,
            "grid_template_rows": null,
            "height": null,
            "justify_content": null,
            "justify_items": null,
            "left": null,
            "margin": null,
            "max_height": null,
            "max_width": null,
            "min_height": null,
            "min_width": null,
            "object_fit": null,
            "object_position": null,
            "order": null,
            "overflow": null,
            "overflow_x": null,
            "overflow_y": null,
            "padding": null,
            "right": null,
            "top": null,
            "visibility": null,
            "width": null
          }
        },
        "ca6a1408371747ef914817ff2f4e26c7": {
          "model_module": "@jupyter-widgets/base",
          "model_name": "LayoutModel",
          "model_module_version": "1.2.0",
          "state": {
            "_model_module": "@jupyter-widgets/base",
            "_model_module_version": "1.2.0",
            "_model_name": "LayoutModel",
            "_view_count": null,
            "_view_module": "@jupyter-widgets/base",
            "_view_module_version": "1.2.0",
            "_view_name": "LayoutView",
            "align_content": null,
            "align_items": null,
            "align_self": null,
            "border": null,
            "bottom": null,
            "display": null,
            "flex": null,
            "flex_flow": null,
            "grid_area": null,
            "grid_auto_columns": null,
            "grid_auto_flow": null,
            "grid_auto_rows": null,
            "grid_column": null,
            "grid_gap": null,
            "grid_row": null,
            "grid_template_areas": null,
            "grid_template_columns": null,
            "grid_template_rows": null,
            "height": null,
            "justify_content": null,
            "justify_items": null,
            "left": null,
            "margin": null,
            "max_height": null,
            "max_width": null,
            "min_height": null,
            "min_width": null,
            "object_fit": null,
            "object_position": null,
            "order": null,
            "overflow": null,
            "overflow_x": null,
            "overflow_y": null,
            "padding": null,
            "right": null,
            "top": null,
            "visibility": null,
            "width": null
          }
        },
        "1f34fbfc84a04f60b858d14fff60e732": {
          "model_module": "@jupyter-widgets/controls",
          "model_name": "DescriptionStyleModel",
          "model_module_version": "1.5.0",
          "state": {
            "_model_module": "@jupyter-widgets/controls",
            "_model_module_version": "1.5.0",
            "_model_name": "DescriptionStyleModel",
            "_view_count": null,
            "_view_module": "@jupyter-widgets/base",
            "_view_module_version": "1.2.0",
            "_view_name": "StyleView",
            "description_width": ""
          }
        },
        "c8581badc39f47f3acb51a48530378e6": {
          "model_module": "@jupyter-widgets/base",
          "model_name": "LayoutModel",
          "model_module_version": "1.2.0",
          "state": {
            "_model_module": "@jupyter-widgets/base",
            "_model_module_version": "1.2.0",
            "_model_name": "LayoutModel",
            "_view_count": null,
            "_view_module": "@jupyter-widgets/base",
            "_view_module_version": "1.2.0",
            "_view_name": "LayoutView",
            "align_content": null,
            "align_items": null,
            "align_self": null,
            "border": null,
            "bottom": null,
            "display": null,
            "flex": null,
            "flex_flow": null,
            "grid_area": null,
            "grid_auto_columns": null,
            "grid_auto_flow": null,
            "grid_auto_rows": null,
            "grid_column": null,
            "grid_gap": null,
            "grid_row": null,
            "grid_template_areas": null,
            "grid_template_columns": null,
            "grid_template_rows": null,
            "height": null,
            "justify_content": null,
            "justify_items": null,
            "left": null,
            "margin": null,
            "max_height": null,
            "max_width": null,
            "min_height": null,
            "min_width": null,
            "object_fit": null,
            "object_position": null,
            "order": null,
            "overflow": null,
            "overflow_x": null,
            "overflow_y": null,
            "padding": null,
            "right": null,
            "top": null,
            "visibility": null,
            "width": null
          }
        },
        "cd7b14284ee743aba5289ae2fc9872ae": {
          "model_module": "@jupyter-widgets/controls",
          "model_name": "ProgressStyleModel",
          "model_module_version": "1.5.0",
          "state": {
            "_model_module": "@jupyter-widgets/controls",
            "_model_module_version": "1.5.0",
            "_model_name": "ProgressStyleModel",
            "_view_count": null,
            "_view_module": "@jupyter-widgets/base",
            "_view_module_version": "1.2.0",
            "_view_name": "StyleView",
            "bar_color": null,
            "description_width": ""
          }
        },
        "1fd95c29cb5f429d8b51418d940cc75c": {
          "model_module": "@jupyter-widgets/base",
          "model_name": "LayoutModel",
          "model_module_version": "1.2.0",
          "state": {
            "_model_module": "@jupyter-widgets/base",
            "_model_module_version": "1.2.0",
            "_model_name": "LayoutModel",
            "_view_count": null,
            "_view_module": "@jupyter-widgets/base",
            "_view_module_version": "1.2.0",
            "_view_name": "LayoutView",
            "align_content": null,
            "align_items": null,
            "align_self": null,
            "border": null,
            "bottom": null,
            "display": null,
            "flex": null,
            "flex_flow": null,
            "grid_area": null,
            "grid_auto_columns": null,
            "grid_auto_flow": null,
            "grid_auto_rows": null,
            "grid_column": null,
            "grid_gap": null,
            "grid_row": null,
            "grid_template_areas": null,
            "grid_template_columns": null,
            "grid_template_rows": null,
            "height": null,
            "justify_content": null,
            "justify_items": null,
            "left": null,
            "margin": null,
            "max_height": null,
            "max_width": null,
            "min_height": null,
            "min_width": null,
            "object_fit": null,
            "object_position": null,
            "order": null,
            "overflow": null,
            "overflow_x": null,
            "overflow_y": null,
            "padding": null,
            "right": null,
            "top": null,
            "visibility": null,
            "width": null
          }
        },
        "8dbf7c3949994c1c980476b6796461b8": {
          "model_module": "@jupyter-widgets/controls",
          "model_name": "DescriptionStyleModel",
          "model_module_version": "1.5.0",
          "state": {
            "_model_module": "@jupyter-widgets/controls",
            "_model_module_version": "1.5.0",
            "_model_name": "DescriptionStyleModel",
            "_view_count": null,
            "_view_module": "@jupyter-widgets/base",
            "_view_module_version": "1.2.0",
            "_view_name": "StyleView",
            "description_width": ""
          }
        },
        "b8b0fa6a33dc4221b4b1919496ca382b": {
          "model_module": "@jupyter-widgets/controls",
          "model_name": "HBoxModel",
          "model_module_version": "1.5.0",
          "state": {
            "_dom_classes": [],
            "_model_module": "@jupyter-widgets/controls",
            "_model_module_version": "1.5.0",
            "_model_name": "HBoxModel",
            "_view_count": null,
            "_view_module": "@jupyter-widgets/controls",
            "_view_module_version": "1.5.0",
            "_view_name": "HBoxView",
            "box_style": "",
            "children": [
              "IPY_MODEL_2d2baad68c5d47e18d946f4eb64bfea0",
              "IPY_MODEL_7d46c092a3e44e47b40f7e93831252de",
              "IPY_MODEL_633b8dc041434c9ab8e3ebac23b38f14"
            ],
            "layout": "IPY_MODEL_6d4aa52f84494cc3acbf08a3dfa523d5"
          }
        },
        "2d2baad68c5d47e18d946f4eb64bfea0": {
          "model_module": "@jupyter-widgets/controls",
          "model_name": "HTMLModel",
          "model_module_version": "1.5.0",
          "state": {
            "_dom_classes": [],
            "_model_module": "@jupyter-widgets/controls",
            "_model_module_version": "1.5.0",
            "_model_name": "HTMLModel",
            "_view_count": null,
            "_view_module": "@jupyter-widgets/controls",
            "_view_module_version": "1.5.0",
            "_view_name": "HTMLView",
            "description": "",
            "description_tooltip": null,
            "layout": "IPY_MODEL_72a9588a4cf24d45b6fc27df872a1804",
            "placeholder": "​",
            "style": "IPY_MODEL_825741ceef8e4c41ae7ca2bfe2984d76",
            "value": "100%"
          }
        },
        "7d46c092a3e44e47b40f7e93831252de": {
          "model_module": "@jupyter-widgets/controls",
          "model_name": "FloatProgressModel",
          "model_module_version": "1.5.0",
          "state": {
            "_dom_classes": [],
            "_model_module": "@jupyter-widgets/controls",
            "_model_module_version": "1.5.0",
            "_model_name": "FloatProgressModel",
            "_view_count": null,
            "_view_module": "@jupyter-widgets/controls",
            "_view_module_version": "1.5.0",
            "_view_name": "ProgressView",
            "bar_style": "success",
            "description": "",
            "description_tooltip": null,
            "layout": "IPY_MODEL_1cff04362b494d55abc70f58b34dba2e",
            "max": 5,
            "min": 0,
            "orientation": "horizontal",
            "style": "IPY_MODEL_26392f48c38f4cb7af4096a80bf4380d",
            "value": 5
          }
        },
        "633b8dc041434c9ab8e3ebac23b38f14": {
          "model_module": "@jupyter-widgets/controls",
          "model_name": "HTMLModel",
          "model_module_version": "1.5.0",
          "state": {
            "_dom_classes": [],
            "_model_module": "@jupyter-widgets/controls",
            "_model_module_version": "1.5.0",
            "_model_name": "HTMLModel",
            "_view_count": null,
            "_view_module": "@jupyter-widgets/controls",
            "_view_module_version": "1.5.0",
            "_view_name": "HTMLView",
            "description": "",
            "description_tooltip": null,
            "layout": "IPY_MODEL_e27c7f149ecb4d9e985cc29e55c86d0a",
            "placeholder": "​",
            "style": "IPY_MODEL_a77c6a47c59e4abe837cc6f7a42edfdb",
            "value": " 5/5 [03:59&lt;00:00, 47.88s/it]"
          }
        },
        "6d4aa52f84494cc3acbf08a3dfa523d5": {
          "model_module": "@jupyter-widgets/base",
          "model_name": "LayoutModel",
          "model_module_version": "1.2.0",
          "state": {
            "_model_module": "@jupyter-widgets/base",
            "_model_module_version": "1.2.0",
            "_model_name": "LayoutModel",
            "_view_count": null,
            "_view_module": "@jupyter-widgets/base",
            "_view_module_version": "1.2.0",
            "_view_name": "LayoutView",
            "align_content": null,
            "align_items": null,
            "align_self": null,
            "border": null,
            "bottom": null,
            "display": null,
            "flex": null,
            "flex_flow": null,
            "grid_area": null,
            "grid_auto_columns": null,
            "grid_auto_flow": null,
            "grid_auto_rows": null,
            "grid_column": null,
            "grid_gap": null,
            "grid_row": null,
            "grid_template_areas": null,
            "grid_template_columns": null,
            "grid_template_rows": null,
            "height": null,
            "justify_content": null,
            "justify_items": null,
            "left": null,
            "margin": null,
            "max_height": null,
            "max_width": null,
            "min_height": null,
            "min_width": null,
            "object_fit": null,
            "object_position": null,
            "order": null,
            "overflow": null,
            "overflow_x": null,
            "overflow_y": null,
            "padding": null,
            "right": null,
            "top": null,
            "visibility": null,
            "width": null
          }
        },
        "72a9588a4cf24d45b6fc27df872a1804": {
          "model_module": "@jupyter-widgets/base",
          "model_name": "LayoutModel",
          "model_module_version": "1.2.0",
          "state": {
            "_model_module": "@jupyter-widgets/base",
            "_model_module_version": "1.2.0",
            "_model_name": "LayoutModel",
            "_view_count": null,
            "_view_module": "@jupyter-widgets/base",
            "_view_module_version": "1.2.0",
            "_view_name": "LayoutView",
            "align_content": null,
            "align_items": null,
            "align_self": null,
            "border": null,
            "bottom": null,
            "display": null,
            "flex": null,
            "flex_flow": null,
            "grid_area": null,
            "grid_auto_columns": null,
            "grid_auto_flow": null,
            "grid_auto_rows": null,
            "grid_column": null,
            "grid_gap": null,
            "grid_row": null,
            "grid_template_areas": null,
            "grid_template_columns": null,
            "grid_template_rows": null,
            "height": null,
            "justify_content": null,
            "justify_items": null,
            "left": null,
            "margin": null,
            "max_height": null,
            "max_width": null,
            "min_height": null,
            "min_width": null,
            "object_fit": null,
            "object_position": null,
            "order": null,
            "overflow": null,
            "overflow_x": null,
            "overflow_y": null,
            "padding": null,
            "right": null,
            "top": null,
            "visibility": null,
            "width": null
          }
        },
        "825741ceef8e4c41ae7ca2bfe2984d76": {
          "model_module": "@jupyter-widgets/controls",
          "model_name": "DescriptionStyleModel",
          "model_module_version": "1.5.0",
          "state": {
            "_model_module": "@jupyter-widgets/controls",
            "_model_module_version": "1.5.0",
            "_model_name": "DescriptionStyleModel",
            "_view_count": null,
            "_view_module": "@jupyter-widgets/base",
            "_view_module_version": "1.2.0",
            "_view_name": "StyleView",
            "description_width": ""
          }
        },
        "1cff04362b494d55abc70f58b34dba2e": {
          "model_module": "@jupyter-widgets/base",
          "model_name": "LayoutModel",
          "model_module_version": "1.2.0",
          "state": {
            "_model_module": "@jupyter-widgets/base",
            "_model_module_version": "1.2.0",
            "_model_name": "LayoutModel",
            "_view_count": null,
            "_view_module": "@jupyter-widgets/base",
            "_view_module_version": "1.2.0",
            "_view_name": "LayoutView",
            "align_content": null,
            "align_items": null,
            "align_self": null,
            "border": null,
            "bottom": null,
            "display": null,
            "flex": null,
            "flex_flow": null,
            "grid_area": null,
            "grid_auto_columns": null,
            "grid_auto_flow": null,
            "grid_auto_rows": null,
            "grid_column": null,
            "grid_gap": null,
            "grid_row": null,
            "grid_template_areas": null,
            "grid_template_columns": null,
            "grid_template_rows": null,
            "height": null,
            "justify_content": null,
            "justify_items": null,
            "left": null,
            "margin": null,
            "max_height": null,
            "max_width": null,
            "min_height": null,
            "min_width": null,
            "object_fit": null,
            "object_position": null,
            "order": null,
            "overflow": null,
            "overflow_x": null,
            "overflow_y": null,
            "padding": null,
            "right": null,
            "top": null,
            "visibility": null,
            "width": null
          }
        },
        "26392f48c38f4cb7af4096a80bf4380d": {
          "model_module": "@jupyter-widgets/controls",
          "model_name": "ProgressStyleModel",
          "model_module_version": "1.5.0",
          "state": {
            "_model_module": "@jupyter-widgets/controls",
            "_model_module_version": "1.5.0",
            "_model_name": "ProgressStyleModel",
            "_view_count": null,
            "_view_module": "@jupyter-widgets/base",
            "_view_module_version": "1.2.0",
            "_view_name": "StyleView",
            "bar_color": null,
            "description_width": ""
          }
        },
        "e27c7f149ecb4d9e985cc29e55c86d0a": {
          "model_module": "@jupyter-widgets/base",
          "model_name": "LayoutModel",
          "model_module_version": "1.2.0",
          "state": {
            "_model_module": "@jupyter-widgets/base",
            "_model_module_version": "1.2.0",
            "_model_name": "LayoutModel",
            "_view_count": null,
            "_view_module": "@jupyter-widgets/base",
            "_view_module_version": "1.2.0",
            "_view_name": "LayoutView",
            "align_content": null,
            "align_items": null,
            "align_self": null,
            "border": null,
            "bottom": null,
            "display": null,
            "flex": null,
            "flex_flow": null,
            "grid_area": null,
            "grid_auto_columns": null,
            "grid_auto_flow": null,
            "grid_auto_rows": null,
            "grid_column": null,
            "grid_gap": null,
            "grid_row": null,
            "grid_template_areas": null,
            "grid_template_columns": null,
            "grid_template_rows": null,
            "height": null,
            "justify_content": null,
            "justify_items": null,
            "left": null,
            "margin": null,
            "max_height": null,
            "max_width": null,
            "min_height": null,
            "min_width": null,
            "object_fit": null,
            "object_position": null,
            "order": null,
            "overflow": null,
            "overflow_x": null,
            "overflow_y": null,
            "padding": null,
            "right": null,
            "top": null,
            "visibility": null,
            "width": null
          }
        },
        "a77c6a47c59e4abe837cc6f7a42edfdb": {
          "model_module": "@jupyter-widgets/controls",
          "model_name": "DescriptionStyleModel",
          "model_module_version": "1.5.0",
          "state": {
            "_model_module": "@jupyter-widgets/controls",
            "_model_module_version": "1.5.0",
            "_model_name": "DescriptionStyleModel",
            "_view_count": null,
            "_view_module": "@jupyter-widgets/base",
            "_view_module_version": "1.2.0",
            "_view_name": "StyleView",
            "description_width": ""
          }
        }
      }
    }
  },
  "cells": [
    {
      "cell_type": "markdown",
      "source": [
        "# Stanford Cars Classification\n",
        "\n",
        "We are fine-tuning a few vision models (effnetb0 & GoogleNet) on the StanfordCars dataset to classify cars. We then deploy our top-performing model as a Gradio app to Hugging Face Spaces. \n",
        "\n",
        "- Dataset = StanfordCars (https://pytorch.org/vision/stable/generated/torchvision.datasets.StanfordCars.html#torchvision.datasets.StanfordCars) \n"
      ],
      "metadata": {
        "id": "FnGn1uwkLyIt"
      }
    },
    {
      "cell_type": "markdown",
      "source": [
        "##Imports"
      ],
      "metadata": {
        "id": "0IF5NRFOP0Ue"
      }
    },
    {
      "cell_type": "code",
      "source": [
        "# For this notebook to run with updated APIs, we need torch 1.12+ and torchvision 0.13+\n",
        "try:\n",
        "    import torch\n",
        "    import torchvision\n",
        "    assert int(torch.__version__.split(\".\")[1]) >= 12, \"torch version should be 1.12+\"\n",
        "    assert int(torchvision.__version__.split(\".\")[1]) >= 13, \"torchvision version should be 0.13+\"\n",
        "    print(f\"torch version: {torch.__version__}\")\n",
        "    print(f\"torchvision version: {torchvision.__version__}\")\n",
        "except:\n",
        "    print(f\"[INFO] torch/torchvision versions not as required, installing nightly versions.\")\n",
        "    !pip3 install -U torch torchvision torchaudio --extra-index-url https://download.pytorch.org/whl/cu113\n",
        "    import torch\n",
        "    import torchvision\n",
        "    print(f\"torch version: {torch.__version__}\")\n",
        "    print(f\"torchvision version: {torchvision.__version__}\")\n",
        "\n"
      ],
      "metadata": {
        "colab": {
          "base_uri": "https://localhost:8080/"
        },
        "id": "1rd0EnLwL47F",
        "outputId": "e77f10f7-b197-4e22-fd45-361246dc08ec"
      },
      "execution_count": null,
      "outputs": [
        {
          "output_type": "stream",
          "name": "stdout",
          "text": [
            "torch version: 1.13.0+cu116\n",
            "torchvision version: 0.14.0+cu116\n"
          ]
        }
      ]
    },
    {
      "cell_type": "code",
      "source": [
        "# Continue with regular imports\n",
        "import matplotlib.pyplot as plt\n",
        "import torch\n",
        "import torchvision\n",
        "\n",
        "from torch import nn\n",
        "from torchvision import transforms\n",
        "\n",
        "# Try to get torchinfo, install it if it doesn't work\n",
        "try:\n",
        "    from torchinfo import summary\n",
        "except:\n",
        "    print(\"[INFO] Couldn't find torchinfo... installing it.\")\n",
        "    !pip install -q torchinfo\n",
        "    from torchinfo import summary\n",
        "\n",
        "# Try to import the going_modular directory, download it from GitHub if it doesn't work\n",
        "try:\n",
        "    from going_modular.going_modular import data_setup, engine\n",
        "    from helper_functions import download_data, set_seeds, plot_loss_curves\n",
        "except:\n",
        "    # Get the going_modular scripts\n",
        "    print(\"[INFO] Couldn't find going_modular or helper_functions scripts... downloading them from GitHub.\")\n",
        "    !git clone https://github.com/mrdbourke/pytorch-deep-learning\n",
        "    !mv pytorch-deep-learning/going_modular .\n",
        "    !mv pytorch-deep-learning/helper_functions.py . # get the helper_functions.py script\n",
        "    !rm -rf pytorch-deep-learning\n",
        "    from going_modular.going_modular import data_setup, engine\n",
        "    from helper_functions import download_data, set_seeds, plot_loss_curves"
      ],
      "metadata": {
        "id": "KyY-lemsOiNM"
      },
      "execution_count": null,
      "outputs": []
    },
    {
      "cell_type": "code",
      "source": [
        "# Import/install Gradio \n",
        "try:\n",
        "    import gradio as gr\n",
        "except: \n",
        "    !pip -q install gradio\n",
        "    import gradio as gr\n",
        "    \n",
        "print(f\"Gradio version: {gr.__version__}\")"
      ],
      "metadata": {
        "colab": {
          "base_uri": "https://localhost:8080/"
        },
        "id": "Eb2iq60Zwzju",
        "outputId": "2317b9d0-5b94-4b09-d592-0becba22d513"
      },
      "execution_count": null,
      "outputs": [
        {
          "output_type": "stream",
          "name": "stdout",
          "text": [
            "\u001b[2K     \u001b[90m━━━━━━━━━━━━━━━━━━━━━━━━━━━━━━━━━━━━━━━━\u001b[0m \u001b[32m13.8/13.8 MB\u001b[0m \u001b[31m73.9 MB/s\u001b[0m eta \u001b[36m0:00:00\u001b[0m\n",
            "\u001b[2K     \u001b[90m━━━━━━━━━━━━━━━━━━━━━━━━━━━━━━━━━━━━━━━━\u001b[0m \u001b[32m2.3/2.3 MB\u001b[0m \u001b[31m68.1 MB/s\u001b[0m eta \u001b[36m0:00:00\u001b[0m\n",
            "\u001b[2K     \u001b[90m━━━━━━━━━━━━━━━━━━━━━━━━━━━━━━━━━━━━━━━━\u001b[0m \u001b[32m84.5/84.5 KB\u001b[0m \u001b[31m11.0 MB/s\u001b[0m eta \u001b[36m0:00:00\u001b[0m\n",
            "\u001b[2K     \u001b[90m━━━━━━━━━━━━━━━━━━━━━━━━━━━━━━━━━━━━━━━━\u001b[0m \u001b[32m56.9/56.9 KB\u001b[0m \u001b[31m7.3 MB/s\u001b[0m eta \u001b[36m0:00:00\u001b[0m\n",
            "\u001b[2K     \u001b[90m━━━━━━━━━━━━━━━━━━━━━━━━━━━━━━━━━━━━━━\u001b[0m \u001b[32m107.0/107.0 KB\u001b[0m \u001b[31m14.4 MB/s\u001b[0m eta \u001b[36m0:00:00\u001b[0m\n",
            "\u001b[2K     \u001b[90m━━━━━━━━━━━━━━━━━━━━━━━━━━━━━━━━━━━━━━━━\u001b[0m \u001b[32m55.5/55.5 KB\u001b[0m \u001b[31m6.3 MB/s\u001b[0m eta \u001b[36m0:00:00\u001b[0m\n",
            "\u001b[2K     \u001b[90m━━━━━━━━━━━━━━━━━━━━━━━━━━━━━━━━━━━━━━\u001b[0m \u001b[32m270.6/270.6 KB\u001b[0m \u001b[31m30.4 MB/s\u001b[0m eta \u001b[36m0:00:00\u001b[0m\n",
            "\u001b[?25h  Preparing metadata (setup.py) ... \u001b[?25l\u001b[?25hdone\n",
            "\u001b[2K     \u001b[90m━━━━━━━━━━━━━━━━━━━━━━━━━━━━━━━━━━━━━━━━\u001b[0m \u001b[32m71.5/71.5 KB\u001b[0m \u001b[31m9.4 MB/s\u001b[0m eta \u001b[36m0:00:00\u001b[0m\n",
            "\u001b[?25h  Preparing metadata (setup.py) ... \u001b[?25l\u001b[?25hdone\n",
            "\u001b[2K     \u001b[90m━━━━━━━━━━━━━━━━━━━━━━━━━━━━━━━━━━━━━━━━\u001b[0m \u001b[32m64.3/64.3 KB\u001b[0m \u001b[31m8.0 MB/s\u001b[0m eta \u001b[36m0:00:00\u001b[0m\n",
            "\u001b[2K     \u001b[90m━━━━━━━━━━━━━━━━━━━━━━━━━━━━━━━━━━━━━━━━\u001b[0m \u001b[32m80.6/80.6 KB\u001b[0m \u001b[31m10.8 MB/s\u001b[0m eta \u001b[36m0:00:00\u001b[0m\n",
            "\u001b[2K     \u001b[90m━━━━━━━━━━━━━━━━━━━━━━━━━━━━━━━━━━━━━━━━\u001b[0m \u001b[32m69.6/69.6 KB\u001b[0m \u001b[31m9.7 MB/s\u001b[0m eta \u001b[36m0:00:00\u001b[0m\n",
            "\u001b[2K     \u001b[90m━━━━━━━━━━━━━━━━━━━━━━━━━━━━━━━━━━━━━━━━\u001b[0m \u001b[32m50.5/50.5 KB\u001b[0m \u001b[31m6.3 MB/s\u001b[0m eta \u001b[36m0:00:00\u001b[0m\n",
            "\u001b[2K     \u001b[90m━━━━━━━━━━━━━━━━━━━━━━━━━━━━━━━━━━━━━━━━\u001b[0m \u001b[32m58.3/58.3 KB\u001b[0m \u001b[31m8.2 MB/s\u001b[0m eta \u001b[36m0:00:00\u001b[0m\n",
            "\u001b[?25h  Building wheel for ffmpy (setup.py) ... \u001b[?25l\u001b[?25hdone\n",
            "  Building wheel for python-multipart (setup.py) ... \u001b[?25l\u001b[?25hdone\n",
            "Gradio version: 3.15.0\n"
          ]
        }
      ]
    },
    {
      "cell_type": "code",
      "source": [
        "\n",
        "device = \"cuda\" if torch.cuda.is_available() else \"cpu\"\n",
        "device"
      ],
      "metadata": {
        "colab": {
          "base_uri": "https://localhost:8080/",
          "height": 35
        },
        "id": "fs5EyzoiOmmf",
        "outputId": "37c965b5-585c-4385-f4e9-32f8a94e19cf"
      },
      "execution_count": null,
      "outputs": [
        {
          "output_type": "execute_result",
          "data": {
            "text/plain": [
              "'cuda'"
            ],
            "application/vnd.google.colaboratory.intrinsic+json": {
              "type": "string"
            }
          },
          "metadata": {},
          "execution_count": 119
        }
      ]
    },
    {
      "cell_type": "markdown",
      "source": [
        "##Create GoogleNet model\n"
      ],
      "metadata": {
        "id": "GJqQ2vjqN1ly"
      }
    },
    {
      "cell_type": "code",
      "source": [
        "google_net_weights = torchvision.models.GoogLeNet_Weights.DEFAULT\n",
        "google_net = torchvision.models.googlenet(weights = google_net_weights)\n",
        "google_net_transforms = google_net_weights.transforms()\n"
      ],
      "metadata": {
        "id": "tKPJCpSKN3hv"
      },
      "execution_count": null,
      "outputs": []
    },
    {
      "cell_type": "code",
      "source": [
        "google_net.fc"
      ],
      "metadata": {
        "colab": {
          "base_uri": "https://localhost:8080/"
        },
        "id": "1TFhNjCQPSI-",
        "outputId": "71540b7b-6620-47d1-fb7f-2616f716bbdb"
      },
      "execution_count": null,
      "outputs": [
        {
          "output_type": "execute_result",
          "data": {
            "text/plain": [
              "Linear(in_features=1024, out_features=1000, bias=True)"
            ]
          },
          "metadata": {},
          "execution_count": 134
        }
      ]
    },
    {
      "cell_type": "code",
      "source": [
        "#Get summary of model \n",
        "from torchinfo import summary \n",
        "\n",
        "# summary(model = google_net, \n",
        "#         input_size = (1,3,224,224))"
      ],
      "metadata": {
        "id": "p4a6VHn_OuYj"
      },
      "execution_count": null,
      "outputs": []
    },
    {
      "cell_type": "code",
      "source": [
        "#freeze params \n",
        "for param in google_net.parameters(): \n",
        "  param.requires_grad = False \n",
        "\n",
        "\n",
        "#change dropout \n",
        "google_net.dropout = nn.Dropout(p = .5, \n",
        "                                inplace = False)\n",
        "#change classifier \n",
        "google_net.fc = nn.Sequential(\n",
        "    nn.Linear(in_features = 1024, \n",
        "              out_features = 196)\n",
        ")\n"
      ],
      "metadata": {
        "id": "mDmcRCKWOPKd"
      },
      "execution_count": null,
      "outputs": []
    },
    {
      "cell_type": "code",
      "source": [
        "summary(model = google_net, \n",
        "          input_size = (1,3,224,224))"
      ],
      "metadata": {
        "colab": {
          "base_uri": "https://localhost:8080/"
        },
        "id": "V-YMsh6tQO61",
        "outputId": "b5d611e1-3bd4-4f2d-a9c2-ce26db702c87"
      },
      "execution_count": null,
      "outputs": [
        {
          "output_type": "execute_result",
          "data": {
            "text/plain": [
              "==========================================================================================\n",
              "Layer (type:depth-idx)                   Output Shape              Param #\n",
              "==========================================================================================\n",
              "GoogLeNet                                [1, 196]                  --\n",
              "├─BasicConv2d: 1-1                       [1, 64, 112, 112]         --\n",
              "│    └─Conv2d: 2-1                       [1, 64, 112, 112]         (9,408)\n",
              "│    └─BatchNorm2d: 2-2                  [1, 64, 112, 112]         (128)\n",
              "├─MaxPool2d: 1-2                         [1, 64, 56, 56]           --\n",
              "├─BasicConv2d: 1-3                       [1, 64, 56, 56]           --\n",
              "│    └─Conv2d: 2-3                       [1, 64, 56, 56]           (4,096)\n",
              "│    └─BatchNorm2d: 2-4                  [1, 64, 56, 56]           (128)\n",
              "├─BasicConv2d: 1-4                       [1, 192, 56, 56]          --\n",
              "│    └─Conv2d: 2-5                       [1, 192, 56, 56]          (110,592)\n",
              "│    └─BatchNorm2d: 2-6                  [1, 192, 56, 56]          (384)\n",
              "├─MaxPool2d: 1-5                         [1, 192, 28, 28]          --\n",
              "├─Inception: 1-6                         [1, 256, 28, 28]          --\n",
              "│    └─BasicConv2d: 2-7                  [1, 64, 28, 28]           --\n",
              "│    │    └─Conv2d: 3-1                  [1, 64, 28, 28]           (12,288)\n",
              "│    │    └─BatchNorm2d: 3-2             [1, 64, 28, 28]           (128)\n",
              "│    └─Sequential: 2-8                   [1, 128, 28, 28]          --\n",
              "│    │    └─BasicConv2d: 3-3             [1, 96, 28, 28]           (18,624)\n",
              "│    │    └─BasicConv2d: 3-4             [1, 128, 28, 28]          (110,848)\n",
              "│    └─Sequential: 2-9                   [1, 32, 28, 28]           --\n",
              "│    │    └─BasicConv2d: 3-5             [1, 16, 28, 28]           (3,104)\n",
              "│    │    └─BasicConv2d: 3-6             [1, 32, 28, 28]           (4,672)\n",
              "│    └─Sequential: 2-10                  [1, 32, 28, 28]           --\n",
              "│    │    └─MaxPool2d: 3-7               [1, 192, 28, 28]          --\n",
              "│    │    └─BasicConv2d: 3-8             [1, 32, 28, 28]           (6,208)\n",
              "├─Inception: 1-7                         [1, 480, 28, 28]          --\n",
              "│    └─BasicConv2d: 2-11                 [1, 128, 28, 28]          --\n",
              "│    │    └─Conv2d: 3-9                  [1, 128, 28, 28]          (32,768)\n",
              "│    │    └─BatchNorm2d: 3-10            [1, 128, 28, 28]          (256)\n",
              "│    └─Sequential: 2-12                  [1, 192, 28, 28]          --\n",
              "│    │    └─BasicConv2d: 3-11            [1, 128, 28, 28]          (33,024)\n",
              "│    │    └─BasicConv2d: 3-12            [1, 192, 28, 28]          (221,568)\n",
              "│    └─Sequential: 2-13                  [1, 96, 28, 28]           --\n",
              "│    │    └─BasicConv2d: 3-13            [1, 32, 28, 28]           (8,256)\n",
              "│    │    └─BasicConv2d: 3-14            [1, 96, 28, 28]           (27,840)\n",
              "│    └─Sequential: 2-14                  [1, 64, 28, 28]           --\n",
              "│    │    └─MaxPool2d: 3-15              [1, 256, 28, 28]          --\n",
              "│    │    └─BasicConv2d: 3-16            [1, 64, 28, 28]           (16,512)\n",
              "├─MaxPool2d: 1-8                         [1, 480, 14, 14]          --\n",
              "├─Inception: 1-9                         [1, 512, 14, 14]          --\n",
              "│    └─BasicConv2d: 2-15                 [1, 192, 14, 14]          --\n",
              "│    │    └─Conv2d: 3-17                 [1, 192, 14, 14]          (92,160)\n",
              "│    │    └─BatchNorm2d: 3-18            [1, 192, 14, 14]          (384)\n",
              "│    └─Sequential: 2-16                  [1, 208, 14, 14]          --\n",
              "│    │    └─BasicConv2d: 3-19            [1, 96, 14, 14]           (46,272)\n",
              "│    │    └─BasicConv2d: 3-20            [1, 208, 14, 14]          (180,128)\n",
              "│    └─Sequential: 2-17                  [1, 48, 14, 14]           --\n",
              "│    │    └─BasicConv2d: 3-21            [1, 16, 14, 14]           (7,712)\n",
              "│    │    └─BasicConv2d: 3-22            [1, 48, 14, 14]           (7,008)\n",
              "│    └─Sequential: 2-18                  [1, 64, 14, 14]           --\n",
              "│    │    └─MaxPool2d: 3-23              [1, 480, 14, 14]          --\n",
              "│    │    └─BasicConv2d: 3-24            [1, 64, 14, 14]           (30,848)\n",
              "├─Inception: 1-10                        [1, 512, 14, 14]          --\n",
              "│    └─BasicConv2d: 2-19                 [1, 160, 14, 14]          --\n",
              "│    │    └─Conv2d: 3-25                 [1, 160, 14, 14]          (81,920)\n",
              "│    │    └─BatchNorm2d: 3-26            [1, 160, 14, 14]          (320)\n",
              "│    └─Sequential: 2-20                  [1, 224, 14, 14]          --\n",
              "│    │    └─BasicConv2d: 3-27            [1, 112, 14, 14]          (57,568)\n",
              "│    │    └─BasicConv2d: 3-28            [1, 224, 14, 14]          (226,240)\n",
              "│    └─Sequential: 2-21                  [1, 64, 14, 14]           --\n",
              "│    │    └─BasicConv2d: 3-29            [1, 24, 14, 14]           (12,336)\n",
              "│    │    └─BasicConv2d: 3-30            [1, 64, 14, 14]           (13,952)\n",
              "│    └─Sequential: 2-22                  [1, 64, 14, 14]           --\n",
              "│    │    └─MaxPool2d: 3-31              [1, 512, 14, 14]          --\n",
              "│    │    └─BasicConv2d: 3-32            [1, 64, 14, 14]           (32,896)\n",
              "├─Inception: 1-11                        [1, 512, 14, 14]          --\n",
              "│    └─BasicConv2d: 2-23                 [1, 128, 14, 14]          --\n",
              "│    │    └─Conv2d: 3-33                 [1, 128, 14, 14]          (65,536)\n",
              "│    │    └─BatchNorm2d: 3-34            [1, 128, 14, 14]          (256)\n",
              "│    └─Sequential: 2-24                  [1, 256, 14, 14]          --\n",
              "│    │    └─BasicConv2d: 3-35            [1, 128, 14, 14]          (65,792)\n",
              "│    │    └─BasicConv2d: 3-36            [1, 256, 14, 14]          (295,424)\n",
              "│    └─Sequential: 2-25                  [1, 64, 14, 14]           --\n",
              "│    │    └─BasicConv2d: 3-37            [1, 24, 14, 14]           (12,336)\n",
              "│    │    └─BasicConv2d: 3-38            [1, 64, 14, 14]           (13,952)\n",
              "│    └─Sequential: 2-26                  [1, 64, 14, 14]           --\n",
              "│    │    └─MaxPool2d: 3-39              [1, 512, 14, 14]          --\n",
              "│    │    └─BasicConv2d: 3-40            [1, 64, 14, 14]           (32,896)\n",
              "├─Inception: 1-12                        [1, 528, 14, 14]          --\n",
              "│    └─BasicConv2d: 2-27                 [1, 112, 14, 14]          --\n",
              "│    │    └─Conv2d: 3-41                 [1, 112, 14, 14]          (57,344)\n",
              "│    │    └─BatchNorm2d: 3-42            [1, 112, 14, 14]          (224)\n",
              "│    └─Sequential: 2-28                  [1, 288, 14, 14]          --\n",
              "│    │    └─BasicConv2d: 3-43            [1, 144, 14, 14]          (74,016)\n",
              "│    │    └─BasicConv2d: 3-44            [1, 288, 14, 14]          (373,824)\n",
              "│    └─Sequential: 2-29                  [1, 64, 14, 14]           --\n",
              "│    │    └─BasicConv2d: 3-45            [1, 32, 14, 14]           (16,448)\n",
              "│    │    └─BasicConv2d: 3-46            [1, 64, 14, 14]           (18,560)\n",
              "│    └─Sequential: 2-30                  [1, 64, 14, 14]           --\n",
              "│    │    └─MaxPool2d: 3-47              [1, 512, 14, 14]          --\n",
              "│    │    └─BasicConv2d: 3-48            [1, 64, 14, 14]           (32,896)\n",
              "├─Inception: 1-13                        [1, 832, 14, 14]          --\n",
              "│    └─BasicConv2d: 2-31                 [1, 256, 14, 14]          --\n",
              "│    │    └─Conv2d: 3-49                 [1, 256, 14, 14]          (135,168)\n",
              "│    │    └─BatchNorm2d: 3-50            [1, 256, 14, 14]          (512)\n",
              "│    └─Sequential: 2-32                  [1, 320, 14, 14]          --\n",
              "│    │    └─BasicConv2d: 3-51            [1, 160, 14, 14]          (84,800)\n",
              "│    │    └─BasicConv2d: 3-52            [1, 320, 14, 14]          (461,440)\n",
              "│    └─Sequential: 2-33                  [1, 128, 14, 14]          --\n",
              "│    │    └─BasicConv2d: 3-53            [1, 32, 14, 14]           (16,960)\n",
              "│    │    └─BasicConv2d: 3-54            [1, 128, 14, 14]          (37,120)\n",
              "│    └─Sequential: 2-34                  [1, 128, 14, 14]          --\n",
              "│    │    └─MaxPool2d: 3-55              [1, 528, 14, 14]          --\n",
              "│    │    └─BasicConv2d: 3-56            [1, 128, 14, 14]          (67,840)\n",
              "├─MaxPool2d: 1-14                        [1, 832, 7, 7]            --\n",
              "├─Inception: 1-15                        [1, 832, 7, 7]            --\n",
              "│    └─BasicConv2d: 2-35                 [1, 256, 7, 7]            --\n",
              "│    │    └─Conv2d: 3-57                 [1, 256, 7, 7]            (212,992)\n",
              "│    │    └─BatchNorm2d: 3-58            [1, 256, 7, 7]            (512)\n",
              "│    └─Sequential: 2-36                  [1, 320, 7, 7]            --\n",
              "│    │    └─BasicConv2d: 3-59            [1, 160, 7, 7]            (133,440)\n",
              "│    │    └─BasicConv2d: 3-60            [1, 320, 7, 7]            (461,440)\n",
              "│    └─Sequential: 2-37                  [1, 128, 7, 7]            --\n",
              "│    │    └─BasicConv2d: 3-61            [1, 32, 7, 7]             (26,688)\n",
              "│    │    └─BasicConv2d: 3-62            [1, 128, 7, 7]            (37,120)\n",
              "│    └─Sequential: 2-38                  [1, 128, 7, 7]            --\n",
              "│    │    └─MaxPool2d: 3-63              [1, 832, 7, 7]            --\n",
              "│    │    └─BasicConv2d: 3-64            [1, 128, 7, 7]            (106,752)\n",
              "├─Inception: 1-16                        [1, 1024, 7, 7]           --\n",
              "│    └─BasicConv2d: 2-39                 [1, 384, 7, 7]            --\n",
              "│    │    └─Conv2d: 3-65                 [1, 384, 7, 7]            (319,488)\n",
              "│    │    └─BatchNorm2d: 3-66            [1, 384, 7, 7]            (768)\n",
              "│    └─Sequential: 2-40                  [1, 384, 7, 7]            --\n",
              "│    │    └─BasicConv2d: 3-67            [1, 192, 7, 7]            (160,128)\n",
              "│    │    └─BasicConv2d: 3-68            [1, 384, 7, 7]            (664,320)\n",
              "│    └─Sequential: 2-41                  [1, 128, 7, 7]            --\n",
              "│    │    └─BasicConv2d: 3-69            [1, 48, 7, 7]             (40,032)\n",
              "│    │    └─BasicConv2d: 3-70            [1, 128, 7, 7]            (55,552)\n",
              "│    └─Sequential: 2-42                  [1, 128, 7, 7]            --\n",
              "│    │    └─MaxPool2d: 3-71              [1, 832, 7, 7]            --\n",
              "│    │    └─BasicConv2d: 3-72            [1, 128, 7, 7]            (106,752)\n",
              "├─AdaptiveAvgPool2d: 1-17                [1, 1024, 1, 1]           --\n",
              "├─Dropout: 1-18                          [1, 1024]                 --\n",
              "├─Sequential: 1-19                       [1, 196]                  --\n",
              "│    └─Linear: 2-43                      [1, 196]                  200,900\n",
              "==========================================================================================\n",
              "Total params: 5,800,804\n",
              "Trainable params: 200,900\n",
              "Non-trainable params: 5,599,904\n",
              "Total mult-adds (G): 1.50\n",
              "==========================================================================================\n",
              "Input size (MB): 0.60\n",
              "Forward/backward pass size (MB): 51.62\n",
              "Params size (MB): 23.20\n",
              "Estimated Total Size (MB): 75.43\n",
              "=========================================================================================="
            ]
          },
          "metadata": {},
          "execution_count": 137
        }
      ]
    },
    {
      "cell_type": "markdown",
      "source": [
        "After freezing the base parameters, there are only 200k trainable parameters "
      ],
      "metadata": {
        "id": "CJSVR3yzQR10"
      }
    },
    {
      "cell_type": "code",
      "source": [],
      "metadata": {
        "id": "rJJfrDniQPBw"
      },
      "execution_count": null,
      "outputs": []
    },
    {
      "cell_type": "markdown",
      "source": [
        "##Getting and preparing StanfordCars data \n",
        "\n",
        "- create StanfordCars transform\n",
        "- download data \n",
        "- train_dir, test_dir\n",
        "- split data into 20%\n",
        "- 20% train, test dataloaders \n"
      ],
      "metadata": {
        "id": "XdY3fmZmQYj5"
      }
    },
    {
      "cell_type": "code",
      "source": [
        "from torchvision import transforms \n",
        "#stanfordcars transform\n",
        "\n",
        "stanford_cars_train_transforms_google_net = transforms.Compose([\n",
        "    transforms.TrivialAugmentWide(),\n",
        "    #transforms.RandomCrop(50),\n",
        "    transforms.RandomRotation(30),\n",
        "    google_net_transforms]\n",
        ")"
      ],
      "metadata": {
        "id": "X5W3s1XSQ8VG"
      },
      "execution_count": null,
      "outputs": []
    },
    {
      "cell_type": "code",
      "source": [
        "from pathlib import Path \n",
        "#Download data \n",
        "\n",
        "#create data path \n",
        "data_dir = Path('data')\n",
        "\n",
        "train_data = torchvision.datasets.StanfordCars(\n",
        "    root = data_dir,\n",
        "     split = 'train', \n",
        "     transform = stanford_cars_train_transforms_google_net, \n",
        "     download = True)\n",
        "\n",
        "test_data = torchvision.datasets.StanfordCars(\n",
        "    root = data_dir,\n",
        "     split = 'test', \n",
        "     transform = google_net_transforms, \n",
        "     download = True)"
      ],
      "metadata": {
        "id": "q6y2RsoORVZy"
      },
      "execution_count": null,
      "outputs": []
    },
    {
      "cell_type": "code",
      "source": [
        "stanford_cars_class_names = train_data.classes"
      ],
      "metadata": {
        "id": "6yq_pUdEShDh"
      },
      "execution_count": null,
      "outputs": []
    },
    {
      "cell_type": "code",
      "source": [
        "#split the data into 20% chunks to speed up training in initial exploration\n",
        "\n",
        "train_data_20_percent = torch.utils.data.Subset(train_data, range(0, int(.2*len(train_data))))\n",
        "test_data_20_percent = torch.utils.data.Subset(test_data, range(0, int(.2*len(test_data))))\n",
        "\n",
        "len(train_data_20_percent), len(test_data_20_percent)\n",
        "\n"
      ],
      "metadata": {
        "colab": {
          "base_uri": "https://localhost:8080/"
        },
        "id": "ft93V05pSX33",
        "outputId": "51a6ed24-5d41-4eec-a834-1d83ff189ba3"
      },
      "execution_count": null,
      "outputs": [
        {
          "output_type": "execute_result",
          "data": {
            "text/plain": [
              "(1628, 1608)"
            ]
          },
          "metadata": {},
          "execution_count": 140
        }
      ]
    },
    {
      "cell_type": "code",
      "source": [
        "#Create dataloader\n",
        "from torch.utils.data import DataLoader\n",
        "import os \n",
        "\n",
        "BATCH_SIZE = 32\n",
        "NUM_WORKERS = os.cpu_count() \n",
        "\n",
        "train_dataloader_20_percent = DataLoader(train_data_20_percent, \n",
        "                                         batch_size=BATCH_SIZE , \n",
        "                                         shuffle=True,\n",
        "                                         num_workers=NUM_WORKERS )\n",
        "\n",
        "\n",
        "\n",
        "test_dataloader_20_percent = DataLoader(test_data_20_percent, \n",
        "                                         batch_size=BATCH_SIZE, \n",
        "                                         shuffle=False,\n",
        "                                         num_workers=NUM_WORKERS )\n",
        "\n"
      ],
      "metadata": {
        "id": "pRiIisjPUK9T"
      },
      "execution_count": null,
      "outputs": []
    },
    {
      "cell_type": "code",
      "source": [
        "#inspecting the dataloaders on a random image \n",
        "from PIL import Image \n",
        "import matplotlib.pyplot as plt\n",
        "\n",
        "img = (next(iter(train_dataloader_20_percent)))[0][0].numpy().transpose(1,2,0)\n",
        "img = img / img.max()\n",
        "plt.imshow(img)\n",
        "plt.axis(False)\n",
        "plt.show()"
      ],
      "metadata": {
        "colab": {
          "base_uri": "https://localhost:8080/",
          "height": 265
        },
        "id": "0l8TetgMYLyR",
        "outputId": "839c7d07-5606-494e-93f4-dd256bb35681"
      },
      "execution_count": null,
      "outputs": [
        {
          "output_type": "stream",
          "name": "stderr",
          "text": [
            "WARNING:matplotlib.image:Clipping input data to the valid range for imshow with RGB data ([0..1] for floats or [0..255] for integers).\n"
          ]
        },
        {
          "output_type": "display_data",
          "data": {
            "text/plain": [
              "<Figure size 432x288 with 1 Axes>"
            ],
            "image/png": "[encoded data removed]"
          },
          "metadata": {
            "needs_background": "light"
          }
        }
      ]
    },
    {
      "cell_type": "markdown",
      "source": [
        "Looks good! "
      ],
      "metadata": {
        "id": "qJrIgEJPajtl"
      }
    },
    {
      "cell_type": "markdown",
      "source": [
        "##Train google_net on the 20% training data "
      ],
      "metadata": {
        "id": "rXyxgDwwWfW8"
      }
    },
    {
      "cell_type": "code",
      "source": [
        "from going_modular.going_modular import engine \n",
        "\n",
        "optimizer = torch.optim.Adam(\n",
        "    params = google_net.parameters(), \n",
        "    lr = .001 \n",
        ")\n",
        "\n",
        "loss_fn = nn.CrossEntropyLoss(label_smoothing = .1)\n",
        "\n",
        "stanford_cars_20_percent_google_net_results = engine.train(\n",
        "    model = google_net,\n",
        "    train_dataloader = train_dataloader_20_percent, \n",
        "    test_dataloader = test_dataloader_20_percent, \n",
        "    optimizer = optimizer, \n",
        "    loss_fn = loss_fn, \n",
        "    epochs = 8, \n",
        "    device = device\n",
        ")"
      ],
      "metadata": {
        "colab": {
          "base_uri": "https://localhost:8080/",
          "height": 188,
          "referenced_widgets": [
            "21eb03380cb44daaa6bb560696d00745",
            "a9d069a480c5442ca41ecdd6e6ec4927",
            "c9b4f2d45dee4f49bf50d87cf0b286fe",
            "75e5411dcfeb4695a06761e2d06c19c5",
            "3f6b7e2e16f44875a9feb87a0119fbbf",
            "ca6a1408371747ef914817ff2f4e26c7",
            "1f34fbfc84a04f60b858d14fff60e732",
            "c8581badc39f47f3acb51a48530378e6",
            "cd7b14284ee743aba5289ae2fc9872ae",
            "1fd95c29cb5f429d8b51418d940cc75c",
            "8dbf7c3949994c1c980476b6796461b8"
          ]
        },
        "id": "9-Xd0YoKTxIV",
        "outputId": "c6ec3811-d260-4447-fcbd-946f337662b2"
      },
      "execution_count": null,
      "outputs": [
        {
          "output_type": "display_data",
          "data": {
            "text/plain": [
              "  0%|          | 0/8 [00:00<?, ?it/s]"
            ],
            "application/vnd.jupyter.widget-view+json": {
              "version_major": 2,
              "version_minor": 0,
              "model_id": "21eb03380cb44daaa6bb560696d00745"
            }
          },
          "metadata": {}
        },
        {
          "output_type": "stream",
          "name": "stdout",
          "text": [
            "Epoch: 1 | train_loss: 5.5263 | train_acc: 0.0074 | test_loss: 5.2751 | test_acc: 0.0141\n",
            "Epoch: 2 | train_loss: 5.1358 | train_acc: 0.0252 | test_loss: 5.1418 | test_acc: 0.0233\n",
            "Epoch: 3 | train_loss: 4.9301 | train_acc: 0.0530 | test_loss: 5.0436 | test_acc: 0.0319\n",
            "Epoch: 4 | train_loss: 4.7829 | train_acc: 0.0723 | test_loss: 4.9122 | test_acc: 0.0613\n",
            "Epoch: 5 | train_loss: 4.6438 | train_acc: 0.0965 | test_loss: 4.8512 | test_acc: 0.0570\n",
            "Epoch: 6 | train_loss: 4.4949 | train_acc: 0.1248 | test_loss: 4.7905 | test_acc: 0.0699\n",
            "Epoch: 7 | train_loss: 4.3686 | train_acc: 0.1615 | test_loss: 4.7575 | test_acc: 0.0852\n",
            "Epoch: 8 | train_loss: 4.2784 | train_acc: 0.1615 | test_loss: 4.6784 | test_acc: 0.0815\n"
          ]
        }
      ]
    },
    {
      "cell_type": "markdown",
      "source": [
        "##Inspecting Loss Curves"
      ],
      "metadata": {
        "id": "YO-wrD_1a7Zw"
      }
    },
    {
      "cell_type": "code",
      "source": [
        "from helper_functions import plot_loss_curves\n",
        "\n",
        "plot_loss_curves(stanford_cars_20_percent_google_net_results)"
      ],
      "metadata": {
        "colab": {
          "base_uri": "https://localhost:8080/",
          "height": 458
        },
        "id": "kTkb-__ga9No",
        "outputId": "a084349a-0595-4f8d-bb66-08da36c2f15f"
      },
      "execution_count": null,
      "outputs": [
        {
          "output_type": "display_data",
          "data": {
            "text/plain": [
              "<Figure size 1080x504 with 2 Axes>"
            ],
            "image/png": "[encoded data removed]"
          },
          "metadata": {
            "needs_background": "light"
          }
        }
      ]
    },
    {
      "cell_type": "markdown",
      "source": [
        "This model massively overfits... let's try a smaller model... \n",
        "- ResNet has 11,689,512 parameters \n",
        "- googlenet has 6,624,904 parameters  \n",
        "- Effnetb0 has \t 5,288,548 parameters \n",
        "\n",
        "Let's try effnetb2 \n"
      ],
      "metadata": {
        "id": "RvvlGSQnjwvR"
      }
    },
    {
      "cell_type": "code",
      "source": [],
      "metadata": {
        "id": "QDUy11GNceRh"
      },
      "execution_count": null,
      "outputs": []
    },
    {
      "cell_type": "markdown",
      "source": [
        "##Create EffNetB0 model"
      ],
      "metadata": {
        "id": "HCsbinqIkNyY"
      }
    },
    {
      "cell_type": "code",
      "source": [
        "from torchvision import models \n",
        "\n",
        "effnetb0_weights = models.EfficientNet_B0_Weights.DEFAULT\n",
        "effnetb0_transforms = effnetb0_weights.transforms()\n",
        "effnetb0 = torchvision.models.efficientnet_b0(weights = effnetb0_weights).to('cpu')\n",
        "\n"
      ],
      "metadata": {
        "id": "29PlxfiMkQII"
      },
      "execution_count": null,
      "outputs": []
    },
    {
      "cell_type": "code",
      "source": [
        "next(effnetb0.parameters()).is_cuda "
      ],
      "metadata": {
        "colab": {
          "base_uri": "https://localhost:8080/"
        },
        "id": "6FyFAJcQ-IqP",
        "outputId": "fd75fb37-b33e-436b-d695-1a05aa008136"
      },
      "execution_count": null,
      "outputs": [
        {
          "output_type": "execute_result",
          "data": {
            "text/plain": [
              "False"
            ]
          },
          "metadata": {},
          "execution_count": 211
        }
      ]
    },
    {
      "cell_type": "code",
      "source": [
        "#check out the model \n",
        "#effnetb0"
      ],
      "metadata": {
        "id": "nH0zt8SFkp3_"
      },
      "execution_count": null,
      "outputs": []
    },
    {
      "cell_type": "code",
      "source": [
        "#freeze params \n",
        "for param in effnetb0.parameters(): \n",
        "  param.requires_grad = False \n",
        "        \n",
        "#change classifier \n",
        "effnetb0.classifier = nn.Sequential(\n",
        "    nn.Dropout(p=.2),\n",
        "    nn.Linear(in_features = 1280, \n",
        "              out_features = 196)\n",
        ")"
      ],
      "metadata": {
        "id": "DhqesgUecgMs"
      },
      "execution_count": null,
      "outputs": []
    },
    {
      "cell_type": "code",
      "source": [
        "from torchvision import transforms \n",
        "#stanfordcars transform\n",
        "\n",
        "stanford_cars_train_transforms_effnetb0 = transforms.Compose([\n",
        "    transforms.TrivialAugmentWide(),\n",
        "    #transforms.RandomCrop(50),\n",
        "    transforms.RandomRotation(30),\n",
        "    effnetb0_transforms]\n",
        ")"
      ],
      "metadata": {
        "id": "eXRkxXN_cgoV"
      },
      "execution_count": null,
      "outputs": []
    },
    {
      "cell_type": "code",
      "source": [
        "from pathlib import Path \n",
        "#Download data \n",
        "\n",
        "#create data path \n",
        "data_dir = Path('data')\n",
        "\n",
        "train_data = torchvision.datasets.StanfordCars(\n",
        "    root = data_dir,\n",
        "     split = 'train', \n",
        "     transform = stanford_cars_train_transforms_effnetb0, \n",
        "     download = True)\n",
        "\n",
        "test_data = torchvision.datasets.StanfordCars(\n",
        "    root = data_dir,\n",
        "     split = 'test', \n",
        "     transform = google_net_transforms, \n",
        "     download = True)"
      ],
      "metadata": {
        "id": "sl-roWZ1lSx7"
      },
      "execution_count": null,
      "outputs": []
    },
    {
      "cell_type": "code",
      "source": [
        "#split the data into 20% chunks to speed up training in initial exploration\n",
        "\n",
        "train_data_20_percent = torch.utils.data.Subset(train_data, range(0, int(.2*len(train_data))))\n",
        "test_data_20_percent = torch.utils.data.Subset(test_data, range(0, int(.2*len(test_data))))\n",
        "\n",
        "len(train_data_20_percent), len(test_data_20_percent)"
      ],
      "metadata": {
        "colab": {
          "base_uri": "https://localhost:8080/"
        },
        "id": "FUIv1fj9lcos",
        "outputId": "6db94844-a651-4fed-fc3b-db894cf56ed5"
      },
      "execution_count": null,
      "outputs": [
        {
          "output_type": "execute_result",
          "data": {
            "text/plain": [
              "(1628, 1608)"
            ]
          },
          "metadata": {},
          "execution_count": 193
        }
      ]
    },
    {
      "cell_type": "code",
      "source": [
        "#Create dataloader\n",
        "from torch.utils.data import DataLoader\n",
        "import os \n",
        "\n",
        "BATCH_SIZE = 32\n",
        "NUM_WORKERS = os.cpu_count() \n",
        "\n",
        "train_dataloader_20_percent = DataLoader(train_data_20_percent, \n",
        "                                         batch_size=BATCH_SIZE , \n",
        "                                         shuffle=True,\n",
        "                                         num_workers=NUM_WORKERS )\n",
        "\n",
        "\n",
        "\n",
        "test_dataloader_20_percent = DataLoader(test_data_20_percent, \n",
        "                                         batch_size=BATCH_SIZE, \n",
        "                                         shuffle=False,\n",
        "                                         num_workers=NUM_WORKERS )\n",
        "\n"
      ],
      "metadata": {
        "id": "tARv-nYBll_Z"
      },
      "execution_count": null,
      "outputs": []
    },
    {
      "cell_type": "code",
      "source": [
        "#inspecting the dataloaders on a random image \n",
        "from PIL import Image \n",
        "import matplotlib.pyplot as plt\n",
        "\n",
        "img = (next(iter(train_dataloader_20_percent)))[0][0].numpy().transpose(1,2,0)\n",
        "img = img / img.max()\n",
        "plt.imshow(img)\n",
        "plt.axis(False)\n",
        "plt.show()"
      ],
      "metadata": {
        "colab": {
          "base_uri": "https://localhost:8080/",
          "height": 265
        },
        "id": "XH_DdOPilqY6",
        "outputId": "67f301b3-8491-4a33-e115-86755128531c"
      },
      "execution_count": null,
      "outputs": [
        {
          "output_type": "stream",
          "name": "stderr",
          "text": [
            "WARNING:matplotlib.image:Clipping input data to the valid range for imshow with RGB data ([0..1] for floats or [0..255] for integers).\n"
          ]
        },
        {
          "output_type": "display_data",
          "data": {
            "text/plain": [
              "<Figure size 432x288 with 1 Axes>"
            ],
            "image/png": "[encoded data removed]"
          },
          "metadata": {
            "needs_background": "light"
          }
        }
      ]
    },
    {
      "cell_type": "code",
      "source": [
        "from going_modular.going_modular import engine \n",
        "\n",
        "optimizer = torch.optim.Adam(\n",
        "    params = effnetb0.parameters(), \n",
        "    lr = .001 \n",
        ")\n",
        "\n",
        "loss_fn = nn.CrossEntropyLoss(label_smoothing = .1)\n",
        "\n",
        "stanford_cars_20_percent_effnetb0_results = engine.train(\n",
        "    model = effnetb0,\n",
        "    train_dataloader = train_dataloader_20_percent, \n",
        "    test_dataloader = test_dataloader_20_percent, \n",
        "    optimizer = optimizer, \n",
        "    loss_fn = loss_fn, \n",
        "    epochs = 5, \n",
        "    device = device\n",
        ")"
      ],
      "metadata": {
        "colab": {
          "base_uri": "https://localhost:8080/",
          "height": 136,
          "referenced_widgets": [
            "b8b0fa6a33dc4221b4b1919496ca382b",
            "2d2baad68c5d47e18d946f4eb64bfea0",
            "7d46c092a3e44e47b40f7e93831252de",
            "633b8dc041434c9ab8e3ebac23b38f14",
            "6d4aa52f84494cc3acbf08a3dfa523d5",
            "72a9588a4cf24d45b6fc27df872a1804",
            "825741ceef8e4c41ae7ca2bfe2984d76",
            "1cff04362b494d55abc70f58b34dba2e",
            "26392f48c38f4cb7af4096a80bf4380d",
            "e27c7f149ecb4d9e985cc29e55c86d0a",
            "a77c6a47c59e4abe837cc6f7a42edfdb"
          ]
        },
        "id": "LfOWTrbjlqhW",
        "outputId": "e72e7509-e376-44f8-8f6a-320a67041af9"
      },
      "execution_count": null,
      "outputs": [
        {
          "output_type": "display_data",
          "data": {
            "text/plain": [
              "  0%|          | 0/5 [00:00<?, ?it/s]"
            ],
            "application/vnd.jupyter.widget-view+json": {
              "version_major": 2,
              "version_minor": 0,
              "model_id": "b8b0fa6a33dc4221b4b1919496ca382b"
            }
          },
          "metadata": {}
        },
        {
          "output_type": "stream",
          "name": "stdout",
          "text": [
            "Epoch: 1 | train_loss: 5.3489 | train_acc: 0.0159 | test_loss: 5.1332 | test_acc: 0.0472\n",
            "Epoch: 2 | train_loss: 4.6968 | train_acc: 0.1366 | test_loss: 4.9130 | test_acc: 0.0754\n",
            "Epoch: 3 | train_loss: 4.3351 | train_acc: 0.2381 | test_loss: 4.7642 | test_acc: 0.0993\n",
            "Epoch: 4 | train_loss: 4.0086 | train_acc: 0.3092 | test_loss: 4.6451 | test_acc: 0.1048\n",
            "Epoch: 5 | train_loss: 3.7770 | train_acc: 0.3804 | test_loss: 4.5590 | test_acc: 0.1164\n"
          ]
        }
      ]
    },
    {
      "cell_type": "code",
      "source": [
        "next(effnetb0.parameters()).is_cuda "
      ],
      "metadata": {
        "colab": {
          "base_uri": "https://localhost:8080/"
        },
        "id": "1cLkBEUcE0k-",
        "outputId": "4c3aa41d-f470-4a6a-ba75-fbb3be18ef06"
      },
      "execution_count": null,
      "outputs": [
        {
          "output_type": "execute_result",
          "data": {
            "text/plain": [
              "False"
            ]
          },
          "metadata": {},
          "execution_count": 212
        }
      ]
    },
    {
      "cell_type": "code",
      "source": [
        "from helper_functions import plot_loss_curves\n",
        "\n",
        "plot_loss_curves(stanford_cars_20_percent_effnetb0_results)"
      ],
      "metadata": {
        "colab": {
          "base_uri": "https://localhost:8080/",
          "height": 458
        },
        "id": "a4JtMgbbl41I",
        "outputId": "5283e6e4-593a-41d2-9ca5-aee2296f89fd"
      },
      "execution_count": null,
      "outputs": [
        {
          "output_type": "display_data",
          "data": {
            "text/plain": [
              "<Figure size 1080x504 with 2 Axes>"
            ],
            "image/png": "[encoded data removed]"
          },
          "metadata": {
            "needs_background": "light"
          }
        }
      ]
    },
    {
      "cell_type": "markdown",
      "source": [
        "##Save and Load the best model \n",
        "(Effnetb0) "
      ],
      "metadata": {
        "id": "p7SnW77Ul_k6"
      }
    },
    {
      "cell_type": "code",
      "source": [
        "#Save model \n",
        "from going_modular.going_modular import utils\n",
        "\n",
        "utils.save_model(\n",
        "    model = effnetb0, \n",
        "    target_dir = 'models', \n",
        "    model_name = 'pretrained_effnetb0_stanford_cars_20_percent.pth')"
      ],
      "metadata": {
        "colab": {
          "base_uri": "https://localhost:8080/"
        },
        "id": "G67TckOznEyl",
        "outputId": "4bcd72d3-1b47-4a09-bb47-6be0f5cd18a2"
      },
      "execution_count": null,
      "outputs": [
        {
          "output_type": "stream",
          "name": "stdout",
          "text": [
            "[INFO] Saving model to: models/pretrained_effnetb0_stanford_cars_20_percent.pth\n"
          ]
        }
      ]
    },
    {
      "cell_type": "code",
      "source": [
        "next(effnetb0.parameters()).is_cuda "
      ],
      "metadata": {
        "colab": {
          "base_uri": "https://localhost:8080/"
        },
        "id": "eO7lXb6-FL8P",
        "outputId": "c73c569e-eb52-48fc-ab0f-194dd5d90a16"
      },
      "execution_count": null,
      "outputs": [
        {
          "output_type": "execute_result",
          "data": {
            "text/plain": [
              "False"
            ]
          },
          "metadata": {},
          "execution_count": 215
        }
      ]
    },
    {
      "cell_type": "code",
      "source": [
        "\n",
        "next(effnetb0.parameters()).is_cuda "
      ],
      "metadata": {
        "colab": {
          "base_uri": "https://localhost:8080/"
        },
        "id": "2Vbs_WCTEn2U",
        "outputId": "4e2f518a-3608-4927-8c86-7d64db238943"
      },
      "execution_count": null,
      "outputs": [
        {
          "output_type": "execute_result",
          "data": {
            "text/plain": [
              "False"
            ]
          },
          "metadata": {},
          "execution_count": 213
        }
      ]
    },
    {
      "cell_type": "code",
      "source": [
        "#make sure we can load the model back in \n",
        "\n",
        "loaded_effnetb0 = torchvision.models.efficientnet_b0()\n",
        "loaded_effnetb0.classifier = nn.Sequential(\n",
        "    nn.Dropout(p=.2),\n",
        "    nn.Linear(in_features = 1280, \n",
        "              out_features = 196)\n",
        ")\n",
        "\n",
        "loaded_effnetb0.load_state_dict(torch.load('models/pretrained_effnetb0_stanford_cars_20_percent.pth'))"
      ],
      "metadata": {
        "colab": {
          "base_uri": "https://localhost:8080/",
          "height": 346
        },
        "id": "BwSZSDsUnhf6",
        "outputId": "786d3f7a-0da7-4917-b73b-cbce7567e0f7"
      },
      "execution_count": null,
      "outputs": [
        {
          "output_type": "error",
          "ename": "FileNotFoundError",
          "evalue": "ignored",
          "traceback": [
            "\u001b[0;31m---------------------------------------------------------------------------\u001b[0m",
            "\u001b[0;31mFileNotFoundError\u001b[0m                         Traceback (most recent call last)",
            "\u001b[0;32m<ipython-input-217-e2a615b80451>\u001b[0m in \u001b[0;36m<module>\u001b[0;34m\u001b[0m\n\u001b[1;32m      8\u001b[0m )\n\u001b[1;32m      9\u001b[0m \u001b[0;34m\u001b[0m\u001b[0m\n\u001b[0;32m---> 10\u001b[0;31m \u001b[0mloaded_effnetb0\u001b[0m\u001b[0;34m.\u001b[0m\u001b[0mload_state_dict\u001b[0m\u001b[0;34m(\u001b[0m\u001b[0mtorch\u001b[0m\u001b[0;34m.\u001b[0m\u001b[0mload\u001b[0m\u001b[0;34m(\u001b[0m\u001b[0;34m'pretrained_effnetb0_stanford_cars_20_percent.pth'\u001b[0m\u001b[0;34m)\u001b[0m\u001b[0;34m)\u001b[0m\u001b[0;34m\u001b[0m\u001b[0;34m\u001b[0m\u001b[0m\n\u001b[0m",
            "\u001b[0;32m/usr/local/lib/python3.8/dist-packages/torch/serialization.py\u001b[0m in \u001b[0;36mload\u001b[0;34m(f, map_location, pickle_module, weights_only, **pickle_load_args)\u001b[0m\n\u001b[1;32m    769\u001b[0m         \u001b[0mpickle_load_args\u001b[0m\u001b[0;34m[\u001b[0m\u001b[0;34m'encoding'\u001b[0m\u001b[0;34m]\u001b[0m \u001b[0;34m=\u001b[0m \u001b[0;34m'utf-8'\u001b[0m\u001b[0;34m\u001b[0m\u001b[0;34m\u001b[0m\u001b[0m\n\u001b[1;32m    770\u001b[0m \u001b[0;34m\u001b[0m\u001b[0m\n\u001b[0;32m--> 771\u001b[0;31m     \u001b[0;32mwith\u001b[0m \u001b[0m_open_file_like\u001b[0m\u001b[0;34m(\u001b[0m\u001b[0mf\u001b[0m\u001b[0;34m,\u001b[0m \u001b[0;34m'rb'\u001b[0m\u001b[0;34m)\u001b[0m \u001b[0;32mas\u001b[0m \u001b[0mopened_file\u001b[0m\u001b[0;34m:\u001b[0m\u001b[0;34m\u001b[0m\u001b[0;34m\u001b[0m\u001b[0m\n\u001b[0m\u001b[1;32m    772\u001b[0m         \u001b[0;32mif\u001b[0m \u001b[0m_is_zipfile\u001b[0m\u001b[0;34m(\u001b[0m\u001b[0mopened_file\u001b[0m\u001b[0;34m)\u001b[0m\u001b[0;34m:\u001b[0m\u001b[0;34m\u001b[0m\u001b[0;34m\u001b[0m\u001b[0m\n\u001b[1;32m    773\u001b[0m             \u001b[0;31m# The zipfile reader is going to advance the current file position.\u001b[0m\u001b[0;34m\u001b[0m\u001b[0;34m\u001b[0m\u001b[0;34m\u001b[0m\u001b[0m\n",
            "\u001b[0;32m/usr/local/lib/python3.8/dist-packages/torch/serialization.py\u001b[0m in \u001b[0;36m_open_file_like\u001b[0;34m(name_or_buffer, mode)\u001b[0m\n\u001b[1;32m    268\u001b[0m \u001b[0;32mdef\u001b[0m \u001b[0m_open_file_like\u001b[0m\u001b[0;34m(\u001b[0m\u001b[0mname_or_buffer\u001b[0m\u001b[0;34m,\u001b[0m \u001b[0mmode\u001b[0m\u001b[0;34m)\u001b[0m\u001b[0;34m:\u001b[0m\u001b[0;34m\u001b[0m\u001b[0;34m\u001b[0m\u001b[0m\n\u001b[1;32m    269\u001b[0m     \u001b[0;32mif\u001b[0m \u001b[0m_is_path\u001b[0m\u001b[0;34m(\u001b[0m\u001b[0mname_or_buffer\u001b[0m\u001b[0;34m)\u001b[0m\u001b[0;34m:\u001b[0m\u001b[0;34m\u001b[0m\u001b[0;34m\u001b[0m\u001b[0m\n\u001b[0;32m--> 270\u001b[0;31m         \u001b[0;32mreturn\u001b[0m \u001b[0m_open_file\u001b[0m\u001b[0;34m(\u001b[0m\u001b[0mname_or_buffer\u001b[0m\u001b[0;34m,\u001b[0m \u001b[0mmode\u001b[0m\u001b[0;34m)\u001b[0m\u001b[0;34m\u001b[0m\u001b[0;34m\u001b[0m\u001b[0m\n\u001b[0m\u001b[1;32m    271\u001b[0m     \u001b[0;32melse\u001b[0m\u001b[0;34m:\u001b[0m\u001b[0;34m\u001b[0m\u001b[0;34m\u001b[0m\u001b[0m\n\u001b[1;32m    272\u001b[0m         \u001b[0;32mif\u001b[0m \u001b[0;34m'w'\u001b[0m \u001b[0;32min\u001b[0m \u001b[0mmode\u001b[0m\u001b[0;34m:\u001b[0m\u001b[0;34m\u001b[0m\u001b[0;34m\u001b[0m\u001b[0m\n",
            "\u001b[0;32m/usr/local/lib/python3.8/dist-packages/torch/serialization.py\u001b[0m in \u001b[0;36m__init__\u001b[0;34m(self, name, mode)\u001b[0m\n\u001b[1;32m    249\u001b[0m \u001b[0;32mclass\u001b[0m \u001b[0m_open_file\u001b[0m\u001b[0;34m(\u001b[0m\u001b[0m_opener\u001b[0m\u001b[0;34m)\u001b[0m\u001b[0;34m:\u001b[0m\u001b[0;34m\u001b[0m\u001b[0;34m\u001b[0m\u001b[0m\n\u001b[1;32m    250\u001b[0m     \u001b[0;32mdef\u001b[0m \u001b[0m__init__\u001b[0m\u001b[0;34m(\u001b[0m\u001b[0mself\u001b[0m\u001b[0;34m,\u001b[0m \u001b[0mname\u001b[0m\u001b[0;34m,\u001b[0m \u001b[0mmode\u001b[0m\u001b[0;34m)\u001b[0m\u001b[0;34m:\u001b[0m\u001b[0;34m\u001b[0m\u001b[0;34m\u001b[0m\u001b[0m\n\u001b[0;32m--> 251\u001b[0;31m         \u001b[0msuper\u001b[0m\u001b[0;34m(\u001b[0m\u001b[0m_open_file\u001b[0m\u001b[0;34m,\u001b[0m \u001b[0mself\u001b[0m\u001b[0;34m)\u001b[0m\u001b[0;34m.\u001b[0m\u001b[0m__init__\u001b[0m\u001b[0;34m(\u001b[0m\u001b[0mopen\u001b[0m\u001b[0;34m(\u001b[0m\u001b[0mname\u001b[0m\u001b[0;34m,\u001b[0m \u001b[0mmode\u001b[0m\u001b[0;34m)\u001b[0m\u001b[0;34m)\u001b[0m\u001b[0;34m\u001b[0m\u001b[0;34m\u001b[0m\u001b[0m\n\u001b[0m\u001b[1;32m    252\u001b[0m \u001b[0;34m\u001b[0m\u001b[0m\n\u001b[1;32m    253\u001b[0m     \u001b[0;32mdef\u001b[0m \u001b[0m__exit__\u001b[0m\u001b[0;34m(\u001b[0m\u001b[0mself\u001b[0m\u001b[0;34m,\u001b[0m \u001b[0;34m*\u001b[0m\u001b[0margs\u001b[0m\u001b[0;34m)\u001b[0m\u001b[0;34m:\u001b[0m\u001b[0;34m\u001b[0m\u001b[0;34m\u001b[0m\u001b[0m\n",
            "\u001b[0;31mFileNotFoundError\u001b[0m: [Errno 2] No such file or directory: 'pretrained_effnetb0_stanford_cars_20_percent.pth'"
          ]
        }
      ]
    },
    {
      "cell_type": "markdown",
      "source": [
        "##Turning the model into a deployable app \n",
        "\n",
        "Launch on HuggingFace using Gradio"
      ],
      "metadata": {
        "id": "BSxTBCo8mDIi"
      }
    },
    {
      "cell_type": "markdown",
      "source": [
        "###Create demos directory \n",
        "\n"
      ],
      "metadata": {
        "id": "5EaGXX0Poeyh"
      }
    },
    {
      "cell_type": "code",
      "source": [
        "import shutil\n",
        "from pathlib import Path\n",
        "\n",
        "# Create FoodVision mini demo path\n",
        "stanford_cars_demo_path = Path(\"demos/stanford_cars/\")\n",
        "\n",
        "# Remove files that might already exist there and create new directory\n",
        "if stanford_cars_demo_path.exists():\n",
        "    shutil.rmtree(stanford_cars_demo_path)\n",
        "    stanford_cars_demo_path.mkdir(parents=True, # make the parent folders?\n",
        "                                    exist_ok=True) # create it even if it already exists?\n",
        "else:\n",
        "    # If the file doesn't exist, create it anyway\n",
        "    stanford_cars_demo_path.mkdir(parents=True, \n",
        "                                    exist_ok=True)\n",
        "    \n",
        "# Check what's in the folder\n",
        "!ls demos/stanford_cars_demo_path/"
      ],
      "metadata": {
        "colab": {
          "base_uri": "https://localhost:8080/"
        },
        "id": "gh3wE8tRohGF",
        "outputId": "944a11fd-d48f-4eb6-e4ad-864538ff4cda"
      },
      "execution_count": null,
      "outputs": [
        {
          "output_type": "stream",
          "name": "stdout",
          "text": [
            "ls: cannot access 'demos/stanford_cars_demo_path/': No such file or directory\n"
          ]
        }
      ]
    },
    {
      "cell_type": "markdown",
      "source": [
        "###Building examples directory "
      ],
      "metadata": {
        "id": "SVgXd66Gm0mH"
      }
    },
    {
      "cell_type": "code",
      "source": [
        "import shutil\n",
        "from pathlib import Path\n",
        "\n",
        "# 1. Create an examples directory\n",
        "stanford_cars_examples_path = stanford_cars_demo_path / \"examples\"\n",
        "stanford_cars_examples_path.mkdir(parents=True, exist_ok=True)\n",
        "\n",
        "# 2. Collect three random test dataset image paths\n",
        "stanford_cars_examples = [Path('data/stanford_cars/cars_test/00001.jpg'),\n",
        "                            Path('data/stanford_cars/cars_test/00002.jpg'),\n",
        "                            Path('data/stanford_cars/cars_test/00007.jpg')]\n",
        "\n",
        "# 3. Copy the three random images to the examples directory\n",
        "for example in stanford_cars_examples:\n",
        "    destination = stanford_cars_examples_path / example.name\n",
        "    print(f\"[INFO] Copying {example} to {destination}\")\n",
        "    shutil.copy2(src=example, dst=destination)"
      ],
      "metadata": {
        "colab": {
          "base_uri": "https://localhost:8080/"
        },
        "id": "rdSm-DMEo1MY",
        "outputId": "fdab6def-9698-49d4-9b6e-81e730e12716"
      },
      "execution_count": null,
      "outputs": [
        {
          "output_type": "stream",
          "name": "stdout",
          "text": [
            "[INFO] Copying data/stanford_cars/cars_test/00001.jpg to demos/stanford_cars/examples/00001.jpg\n",
            "[INFO] Copying data/stanford_cars/cars_test/00002.jpg to demos/stanford_cars/examples/00002.jpg\n",
            "[INFO] Copying data/stanford_cars/cars_test/00007.jpg to demos/stanford_cars/examples/00007.jpg\n"
          ]
        }
      ]
    },
    {
      "cell_type": "code",
      "source": [
        "#verify our examples are present\n",
        "\n",
        "import os\n",
        "\n",
        "# Get example filepaths in a list of lists\n",
        "example_list = [[\"examples/\" + example] for example in os.listdir(stanford_cars_examples_path)]\n",
        "example_list\n"
      ],
      "metadata": {
        "colab": {
          "base_uri": "https://localhost:8080/"
        },
        "id": "TWBcdUVgpL4t",
        "outputId": "eaf4d8a7-e51c-4d8f-8414-77c08dcc9511"
      },
      "execution_count": null,
      "outputs": [
        {
          "output_type": "execute_result",
          "data": {
            "text/plain": [
              "[['examples/00002.jpg'], ['examples/00007.jpg'], ['examples/00001.jpg']]"
            ]
          },
          "metadata": {},
          "execution_count": 246
        }
      ]
    },
    {
      "cell_type": "markdown",
      "source": [
        "###Moving our model to demos/models "
      ],
      "metadata": {
        "id": "lQ5M08r3pS57"
      }
    },
    {
      "cell_type": "code",
      "source": [
        "import shutil\n",
        "\n",
        "# Create a source path for our target model\n",
        "effnetb0_stanford_cars_model_path = \"models/pretrained_effnetb0_stanford_cars_20_percent.pth\"\n",
        "\n",
        "# Create a destination path for our target model \n",
        "effnetb0_stanford_cars_model_destination = stanford_cars_demo_path / effnetb0_stanford_cars_model_path.split(\"/\")[1]\n",
        "\n",
        "# Try to move the file\n",
        "try:\n",
        "    print(f\"[INFO] Attempting to move {effnetb0_stanford_cars_model_path} to {effnetb0_stanford_cars_model_destination}\")\n",
        "    \n",
        "    # Move the model\n",
        "    shutil.move(src=effnetb0_stanford_cars_model_path, \n",
        "                dst=effnetb0_stanford_cars_model_destination)\n",
        "    \n",
        "    print(f\"[INFO] Model move complete.\")\n",
        "\n",
        "# If the model has already been moved, check if it exists\n",
        "except:\n",
        "    print(f\"[INFO] No model found at {effnetb0_stanford_cars_model_path}, perhaps its already been moved?\")\n",
        "    print(f\"[INFO] Model exists at {effnetb0_stanford_cars_model_destination}: {effnetb0_stanford_cars_model_destination.exists()}\")"
      ],
      "metadata": {
        "colab": {
          "base_uri": "https://localhost:8080/"
        },
        "id": "uyF05fPDpVMS",
        "outputId": "10afaaf7-71bc-4647-ea94-a436313723d3"
      },
      "execution_count": null,
      "outputs": [
        {
          "output_type": "stream",
          "name": "stdout",
          "text": [
            "[INFO] Attempting to move models/pretrained_effnetb0_stanford_cars_20_percent.pth to demos/stanford_cars/pretrained_effnetb0_stanford_cars_20_percent.pth\n",
            "[INFO] Model move complete.\n"
          ]
        }
      ]
    },
    {
      "cell_type": "markdown",
      "source": [
        "###Building class_names.txt"
      ],
      "metadata": {
        "id": "D5cVIF-0m3bH"
      }
    },
    {
      "cell_type": "code",
      "source": [
        "# Create path to Food101 class names\n",
        "stanford_cars_class_names_path = stanford_cars_demo_path / \"class_names.txt\"\n",
        "\n",
        "# Write Food101 class names list to file\n",
        "with open(stanford_cars_class_names_path, \"w\") as f:\n",
        "    print(f\"[INFO] Saving Food101 class names to {stanford_cars_class_names_path}\")\n",
        "    f.write(\"\\n\".join(stanford_cars_class_names)) # leave a new line between each class"
      ],
      "metadata": {
        "colab": {
          "base_uri": "https://localhost:8080/"
        },
        "id": "ewWZPLBeqfNv",
        "outputId": "8eb9246e-1181-47e1-fc64-4ccf0379a13b"
      },
      "execution_count": null,
      "outputs": [
        {
          "output_type": "stream",
          "name": "stdout",
          "text": [
            "[INFO] Saving Food101 class names to demos/stanford_cars/class_names.txt\n"
          ]
        }
      ]
    },
    {
      "cell_type": "code",
      "source": [
        "#make sure we can read them in \n",
        "with open(stanford_cars_class_names_path, \"r\") as f:\n",
        "    stanford_cars_class_names_loaded = [car.strip() for car in  f.readlines()]\n",
        "    \n",
        "# View the first 5 class names loaded back in\n",
        "stanford_cars_class_names_loaded[:5]"
      ],
      "metadata": {
        "colab": {
          "base_uri": "https://localhost:8080/"
        },
        "id": "G_lFGHzwqoUn",
        "outputId": "df280b67-218e-488b-d609-c8c5f80c6147"
      },
      "execution_count": null,
      "outputs": [
        {
          "output_type": "execute_result",
          "data": {
            "text/plain": [
              "['AM General Hummer SUV 2000',\n",
              " 'Acura RL Sedan 2012',\n",
              " 'Acura TL Sedan 2012',\n",
              " 'Acura TL Type-S 2008',\n",
              " 'Acura TSX Sedan 2012']"
            ]
          },
          "metadata": {},
          "execution_count": 249
        }
      ]
    },
    {
      "cell_type": "markdown",
      "source": [
        "###Building Model.py (turning our effnetb0 model into a python script) \n"
      ],
      "metadata": {
        "id": "tw9Ev3-1moq2"
      }
    },
    {
      "cell_type": "code",
      "source": [
        "%%writefile demos/stanford_cars/model.py\n",
        "import torch\n",
        "import torchvision\n",
        "\n",
        "from torch import nn\n",
        "\n",
        "\n",
        "def create_effnetb0(num_classes:int=3, \n",
        "                          seed:int=42):\n",
        "    \"\"\"Creates an EfficientNetB2 feature extractor model and transforms.\n",
        "\n",
        "    Args:\n",
        "        num_classes (int, optional): number of classes in the classifier head. \n",
        "            Defaults to 3.\n",
        "        seed (int, optional): random seed value. Defaults to 42.\n",
        "\n",
        "    Returns:\n",
        "        model (torch.nn.Module): EffNetB2 feature extractor model. \n",
        "        transforms (torchvision.transforms): EffNetB2 image transforms.\n",
        "    \"\"\"\n",
        "    # Create EffNetB2 pretrained weights, transforms and model\n",
        "    weights = torchvision.models.EfficientNet_B0_Weights.DEFAULT\n",
        "    transforms = weights.transforms()\n",
        "    model = torchvision.models.efficientnet_b0(weights=weights)\n",
        "\n",
        "    # Freeze all layers in base model\n",
        "    for param in model.parameters():\n",
        "        param.requires_grad = False\n",
        "\n",
        "    # Change classifier head with random seed for reproducibility\n",
        "    torch.manual_seed(seed)\n",
        "    model.classifier = nn.Sequential(\n",
        "        nn.Dropout(p=0.3, inplace=True),\n",
        "        nn.Linear(in_features=1408, out_features=num_classes),\n",
        "    )\n",
        "    \n",
        "    return model, transforms"
      ],
      "metadata": {
        "colab": {
          "base_uri": "https://localhost:8080/"
        },
        "id": "CC3AQiiupzCK",
        "outputId": "6388b4da-98e4-4c7d-a3eb-589cc20bf5c5"
      },
      "execution_count": null,
      "outputs": [
        {
          "output_type": "stream",
          "name": "stdout",
          "text": [
            "Writing demos/stanford_cars/model.py\n"
          ]
        }
      ]
    },
    {
      "cell_type": "markdown",
      "source": [
        "###Building App.py\n",
        "\n",
        "- Imports and class name function \n",
        "- Model and transforms preparation \n",
        "- Predict function \n",
        "- Gradio app \n"
      ],
      "metadata": {
        "id": "10d4XP0hmxkI"
      }
    },
    {
      "cell_type": "code",
      "source": [
        "#%%writefile demos/foodvision_big/app.py\n",
        "### 1. Imports and class names setup ### \n",
        "import gradio as gr\n",
        "import os\n",
        "import torch\n",
        "\n",
        "from model import create_effnetb0_model\n",
        "from timeit import default_timer as timer\n",
        "from typing import Tuple, Dict\n",
        "\n",
        "\n",
        "#class names \n",
        "with open('class_names.txt', \"r\") as f:\n",
        "    class_names  = [car.strip() for car in  f.readlines()]\n",
        "    \n",
        "### 2. Model and transforms preparation ###    \n",
        "\n",
        "# Create model\n",
        "effnetb2, effnetb2_transforms = create_effnetb0(\n",
        "    num_classes=196, # could also use len(class_names)\n",
        ")\n",
        "\n",
        "# Load saved weights\n",
        "effnetb2.load_state_dict(\n",
        "    torch.load(\n",
        "        f=\"pretrained_effnetb0_stanford_cars_20_percent.pth\",\n",
        "        map_location=torch.device(\"cpu\"),  # load to CPU\n",
        "    )\n",
        ")\n",
        "\n",
        "### 3. Predict function ###\n",
        "\n",
        "# Create predict function\n",
        "def predict(img) -> Tuple[Dict, float]:\n",
        "    \"\"\"Transforms and performs a prediction on img and returns prediction and time taken.\n",
        "    \"\"\"\n",
        "    # Start the timer\n",
        "    start_time = timer()\n",
        "    \n",
        "    # Transform the target image and add a batch dimension\n",
        "    img = effnetb2_transforms(img).unsqueeze(0)\n",
        "    \n",
        "    # Put model into evaluation mode and turn on inference mode\n",
        "    effnetb2.eval()\n",
        "    with torch.inference_mode():\n",
        "        # Pass the transformed image through the model and turn the prediction logits into prediction probabilities\n",
        "        pred_probs = torch.softmax(effnetb2(img), dim=1)\n",
        "    \n",
        "    # Create a prediction label and prediction probability dictionary for each prediction class (this is the required format for Gradio's output parameter)\n",
        "    pred_labels_and_probs = {class_names[i]: float(pred_probs[0][i]) for i in range(len(class_names))}\n",
        "    \n",
        "    # Calculate the prediction time\n",
        "    pred_time = round(timer() - start_time, 5)\n",
        "    \n",
        "    # Return the prediction dictionary and prediction time \n",
        "    return pred_labels_and_probs, pred_time\n",
        "\n",
        "### 4. Gradio app ###\n",
        "\n",
        "# Create title, description and article strings\n",
        "title = \"Effnet Car Classifier 🍔👁\"\n",
        "description = \"An EfficientNetB2 feature extractor computer vision model to classify images of cars into [196 different classes]\"\n",
        "\n",
        "# Create examples list from \"examples/\" directory\n",
        "example_list = [[\"examples/\" + example] for example in os.listdir(\"examples\")]\n",
        "\n",
        "# Create Gradio interface \n",
        "demo = gr.Interface(\n",
        "    fn=predict,\n",
        "    inputs=gr.Image(type=\"pil\"),\n",
        "    outputs=[\n",
        "        gr.Label(num_top_classes=5, label=\"Predictions\"),\n",
        "        gr.Number(label=\"Prediction time (s)\"),\n",
        "    ],\n",
        "    examples=example_list,\n",
        "    title=title,\n",
        "    description=description\n",
        ")\n",
        "\n",
        "# Launch the app!\n",
        "demo.launch()"
      ],
      "metadata": {
        "colab": {
          "base_uri": "https://localhost:8080/",
          "height": 520
        },
        "id": "b738s89KJFJw",
        "outputId": "eea3e6a8-89c2-4e50-fce4-d4c0a120d057"
      },
      "execution_count": null,
      "outputs": [
        {
          "output_type": "stream",
          "name": "stdout",
          "text": [
            "Writing demos/foodvision_big/app.py\n"
          ]
        },
        {
          "output_type": "error",
          "ename": "FileNotFoundError",
          "evalue": "ignored",
          "traceback": [
            "\u001b[0;31m---------------------------------------------------------------------------\u001b[0m",
            "\u001b[0;31mFileNotFoundError\u001b[0m                         Traceback (most recent call last)",
            "\u001b[0;32m<ipython-input-252-e3f5d6050d82>\u001b[0m in \u001b[0;36m<module>\u001b[0;34m\u001b[0m\n\u001b[0;32m----> 1\u001b[0;31m \u001b[0mget_ipython\u001b[0m\u001b[0;34m(\u001b[0m\u001b[0;34m)\u001b[0m\u001b[0;34m.\u001b[0m\u001b[0mrun_cell_magic\u001b[0m\u001b[0;34m(\u001b[0m\u001b[0;34m'writefile'\u001b[0m\u001b[0;34m,\u001b[0m \u001b[0;34m'demos/foodvision_big/app.py'\u001b[0m\u001b[0;34m,\u001b[0m \u001b[0;34m'### 1. Imports and class names setup ### \\nimport gradio as gr\\nimport os\\nimport torch\\n\\nfrom model import create_effnetb0_model\\nfrom timeit import default_timer as timer\\nfrom typing import Tuple, Dict\\n\\n\\n#class names \\nwith open(\\'class_names.txt\\', \"r\") as f:\\n    class_names  = [car.strip() for car in  f.readlines()]\\n    \\n### 2. Model and transforms preparation ###    \\n\\n# Create model\\neffnetb2, effnetb2_transforms = create_effnetb0(\\n    num_classes=196, # could also use len(class_names)\\n)\\n\\n# Load saved weights\\neffnetb2.load_state_dict(\\n    torch.load(\\n        f=\"pretrained_effnetb0_stanford_cars_20_percent.pth\",\\n        map_location=torch.device(\"cpu\"),  # load to CPU\\n    )\\n)\\n\\n### 3. Predict function ###\\n\\n# Create predict function\\ndef predict(img) -> Tuple[Dict, float]:\\n    \"\"\"Transforms and performs a prediction on img and returns prediction and time taken.\\n    \"\"\"\\n    # Start the timer\\n    start_time = timer()\\n    \\n    # Transform the target image and add a batch dimension\\n    img = effnetb2_transforms(img).unsqueeze(0)\\n    \\n    # Put model into evaluation mode and turn on inference mode\\n    effnetb2.eval()\\n    with torch.inference_mode():\\n        # Pass the transformed image through the model and turn the prediction logits int...\n\u001b[0m",
            "\u001b[0;32m/usr/local/lib/python3.8/dist-packages/IPython/core/interactiveshell.py\u001b[0m in \u001b[0;36mrun_cell_magic\u001b[0;34m(self, magic_name, line, cell)\u001b[0m\n\u001b[1;32m   2357\u001b[0m             \u001b[0;32mwith\u001b[0m \u001b[0mself\u001b[0m\u001b[0;34m.\u001b[0m\u001b[0mbuiltin_trap\u001b[0m\u001b[0;34m:\u001b[0m\u001b[0;34m\u001b[0m\u001b[0;34m\u001b[0m\u001b[0m\n\u001b[1;32m   2358\u001b[0m                 \u001b[0margs\u001b[0m \u001b[0;34m=\u001b[0m \u001b[0;34m(\u001b[0m\u001b[0mmagic_arg_s\u001b[0m\u001b[0;34m,\u001b[0m \u001b[0mcell\u001b[0m\u001b[0;34m)\u001b[0m\u001b[0;34m\u001b[0m\u001b[0;34m\u001b[0m\u001b[0m\n\u001b[0;32m-> 2359\u001b[0;31m                 \u001b[0mresult\u001b[0m \u001b[0;34m=\u001b[0m \u001b[0mfn\u001b[0m\u001b[0;34m(\u001b[0m\u001b[0;34m*\u001b[0m\u001b[0margs\u001b[0m\u001b[0;34m,\u001b[0m \u001b[0;34m**\u001b[0m\u001b[0mkwargs\u001b[0m\u001b[0;34m)\u001b[0m\u001b[0;34m\u001b[0m\u001b[0;34m\u001b[0m\u001b[0m\n\u001b[0m\u001b[1;32m   2360\u001b[0m             \u001b[0;32mreturn\u001b[0m \u001b[0mresult\u001b[0m\u001b[0;34m\u001b[0m\u001b[0;34m\u001b[0m\u001b[0m\n\u001b[1;32m   2361\u001b[0m \u001b[0;34m\u001b[0m\u001b[0m\n",
            "\u001b[0;32m<decorator-gen-98>\u001b[0m in \u001b[0;36mwritefile\u001b[0;34m(self, line, cell)\u001b[0m\n",
            "\u001b[0;32m/usr/local/lib/python3.8/dist-packages/IPython/core/magic.py\u001b[0m in \u001b[0;36m<lambda>\u001b[0;34m(f, *a, **k)\u001b[0m\n\u001b[1;32m    185\u001b[0m     \u001b[0;31m# but it's overkill for just that one bit of state.\u001b[0m\u001b[0;34m\u001b[0m\u001b[0;34m\u001b[0m\u001b[0;34m\u001b[0m\u001b[0m\n\u001b[1;32m    186\u001b[0m     \u001b[0;32mdef\u001b[0m \u001b[0mmagic_deco\u001b[0m\u001b[0;34m(\u001b[0m\u001b[0marg\u001b[0m\u001b[0;34m)\u001b[0m\u001b[0;34m:\u001b[0m\u001b[0;34m\u001b[0m\u001b[0;34m\u001b[0m\u001b[0m\n\u001b[0;32m--> 187\u001b[0;31m         \u001b[0mcall\u001b[0m \u001b[0;34m=\u001b[0m \u001b[0;32mlambda\u001b[0m \u001b[0mf\u001b[0m\u001b[0;34m,\u001b[0m \u001b[0;34m*\u001b[0m\u001b[0ma\u001b[0m\u001b[0;34m,\u001b[0m \u001b[0;34m**\u001b[0m\u001b[0mk\u001b[0m\u001b[0;34m:\u001b[0m \u001b[0mf\u001b[0m\u001b[0;34m(\u001b[0m\u001b[0;34m*\u001b[0m\u001b[0ma\u001b[0m\u001b[0;34m,\u001b[0m \u001b[0;34m**\u001b[0m\u001b[0mk\u001b[0m\u001b[0;34m)\u001b[0m\u001b[0;34m\u001b[0m\u001b[0;34m\u001b[0m\u001b[0m\n\u001b[0m\u001b[1;32m    188\u001b[0m \u001b[0;34m\u001b[0m\u001b[0m\n\u001b[1;32m    189\u001b[0m         \u001b[0;32mif\u001b[0m \u001b[0mcallable\u001b[0m\u001b[0;34m(\u001b[0m\u001b[0marg\u001b[0m\u001b[0;34m)\u001b[0m\u001b[0;34m:\u001b[0m\u001b[0;34m\u001b[0m\u001b[0;34m\u001b[0m\u001b[0m\n",
            "\u001b[0;32m/usr/local/lib/python3.8/dist-packages/IPython/core/magics/osm.py\u001b[0m in \u001b[0;36mwritefile\u001b[0;34m(self, line, cell)\u001b[0m\n\u001b[1;32m    846\u001b[0m \u001b[0;34m\u001b[0m\u001b[0m\n\u001b[1;32m    847\u001b[0m         \u001b[0mmode\u001b[0m \u001b[0;34m=\u001b[0m \u001b[0;34m'a'\u001b[0m \u001b[0;32mif\u001b[0m \u001b[0margs\u001b[0m\u001b[0;34m.\u001b[0m\u001b[0mappend\u001b[0m \u001b[0;32melse\u001b[0m \u001b[0;34m'w'\u001b[0m\u001b[0;34m\u001b[0m\u001b[0;34m\u001b[0m\u001b[0m\n\u001b[0;32m--> 848\u001b[0;31m         \u001b[0;32mwith\u001b[0m \u001b[0mio\u001b[0m\u001b[0;34m.\u001b[0m\u001b[0mopen\u001b[0m\u001b[0;34m(\u001b[0m\u001b[0mfilename\u001b[0m\u001b[0;34m,\u001b[0m \u001b[0mmode\u001b[0m\u001b[0;34m,\u001b[0m \u001b[0mencoding\u001b[0m\u001b[0;34m=\u001b[0m\u001b[0;34m'utf-8'\u001b[0m\u001b[0;34m)\u001b[0m \u001b[0;32mas\u001b[0m \u001b[0mf\u001b[0m\u001b[0;34m:\u001b[0m\u001b[0;34m\u001b[0m\u001b[0;34m\u001b[0m\u001b[0m\n\u001b[0m\u001b[1;32m    849\u001b[0m             \u001b[0mf\u001b[0m\u001b[0;34m.\u001b[0m\u001b[0mwrite\u001b[0m\u001b[0;34m(\u001b[0m\u001b[0mcell\u001b[0m\u001b[0;34m)\u001b[0m\u001b[0;34m\u001b[0m\u001b[0;34m\u001b[0m\u001b[0m\n",
            "\u001b[0;31mFileNotFoundError\u001b[0m: [Errno 2] No such file or directory: 'demos/foodvision_big/app.py'"
          ]
        }
      ]
    },
    {
      "cell_type": "code",
      "source": [
        "%%writefile demos/stanford_cars/app.py\n",
        "import gradio as gr \n",
        "import torchvision \n",
        "from torch import nn \n",
        "\n",
        "\n",
        "import torch\n",
        "\n",
        "from timeit import default_timer as timer\n",
        "from typing import Tuple, Dict\n",
        "\n",
        "#class names \n",
        "with open('class_names.txt', \"r\") as f:\n",
        "    class_names  = [car.strip() for car in  f.readlines()]\n",
        "\n",
        "\n",
        "#model and transforms preparation\n",
        "effnetb0_weights = models.EfficientNet_B0_Weights.DEFAULT\n",
        "effnetb0 = torchvision.models.efficientnet_b0(weights = effnetb0_weights)\n",
        "effnetb0_transforms = effnetb0_weights.transforms()\n",
        "\n",
        "#freeze params \n",
        "for param in effnetb0.parameters(): \n",
        "  param.requires_grad = False \n",
        "        \n",
        "#change classifier \n",
        "effnetb0.classifier = nn.Sequential(\n",
        "    nn.Dropout(p=.2),\n",
        "    nn.Linear(in_features = 1280, \n",
        "              out_features = 196)\n",
        ")\n",
        "\n",
        "#load saved weights \n",
        "effnetb0.load_state_dict(torch.load('pretrained_effnetb0_stanford_cars_20_percent.pth'), \n",
        "                          map_location=torch.device(\"cpu\"))\n",
        "\n",
        "\n",
        "#predict function \n",
        "\n",
        "def predict(img) -> Tuple[Dict, float]:\n",
        "\n",
        "  start_time = timer()\n",
        "\n",
        "  #put model into eval mode \n",
        "  effnetb0.eval()\n",
        "\n",
        "  with torch.inference_mode():\n",
        "    pred_logits = effnetb0(img.unsqueeze(0))\n",
        "    pred_probs = torch.softmax(pred_logits, dim = 1)\n",
        "\n",
        "   # Create a prediction label and prediction probability dictionary for each prediction class (this is the required format for Gradio's output parameter)\n",
        "  pred_labels_and_probs = {class_names[i]: float(pred_probs[0][i]) for i in range(len(class_names))}\n",
        "\n",
        "  end_time = timer()\n",
        "\n",
        "  time = round(end_time - start_time, 5) \n",
        "\n",
        "  return pred_labels_and_probs, time\n",
        "\n",
        "\n",
        "#gradio app \n",
        "\n",
        "title = 'effnetb0'\n",
        "description = 'Pretrained effnetb0 model on stanford cars dataset'\n",
        "\n",
        "#create example list \n",
        "example_list = [[\"examples/\" + example] for example in os.listdir(\"examples\")]\n",
        "\n",
        "# Create Gradio interface \n",
        "demo = gr.Interface(\n",
        "    fn=predict,\n",
        "    inputs=gr.Image(type=\"pil\"),\n",
        "    outputs=[\n",
        "        gr.Label(num_top_classes=5, label=\"Predictions\"),\n",
        "        gr.Number(label=\"Prediction time (s)\"),\n",
        "    ],\n",
        "    examples=example_list,\n",
        "    title=title,\n",
        "    description=description\n",
        "    \n",
        ")\n",
        "\n",
        "# Launch the app!\n",
        "demo.launch()\n",
        "\n",
        "\n"
      ],
      "metadata": {
        "colab": {
          "base_uri": "https://localhost:8080/"
        },
        "id": "q12Z1GdxrpT8",
        "outputId": "65acab74-39e7-4fdd-abc6-0be53c807ef0"
      },
      "execution_count": null,
      "outputs": [
        {
          "output_type": "stream",
          "name": "stdout",
          "text": [
            "Writing demos/stanford_cars/app.py\n"
          ]
        }
      ]
    },
    {
      "cell_type": "code",
      "source": [
        "next"
      ],
      "metadata": {
        "colab": {
          "base_uri": "https://localhost:8080/"
        },
        "id": "5SBH9Z4hEOI3",
        "outputId": "6a6ae4be-0de9-4bcb-ca09-ec283f49205d"
      },
      "execution_count": null,
      "outputs": [
        {
          "output_type": "execute_result",
          "data": {
            "text/plain": [
              "<function next>"
            ]
          },
          "metadata": {},
          "execution_count": 236
        }
      ]
    },
    {
      "cell_type": "markdown",
      "source": [
        "###Building requriements.txt"
      ],
      "metadata": {
        "id": "BHuhflvum5YY"
      }
    },
    {
      "cell_type": "code",
      "source": [
        "%%writefile demos/stanford_cars/requirements.txt\n",
        "torch==1.12.0\n",
        "torchvision==0.13.0\n",
        "gradio==3.1.4"
      ],
      "metadata": {
        "colab": {
          "base_uri": "https://localhost:8080/"
        },
        "id": "k63oLkWYwHgR",
        "outputId": "3056cfc7-b7ba-4c2d-918d-9ebe91b34572"
      },
      "execution_count": null,
      "outputs": [
        {
          "output_type": "stream",
          "name": "stdout",
          "text": [
            "Writing demos/stanford_cars/requirements.txt\n"
          ]
        }
      ]
    },
    {
      "cell_type": "markdown",
      "source": [
        "###Download files as zip files"
      ],
      "metadata": {
        "id": "faOhgJrSxvyu"
      }
    },
    {
      "cell_type": "code",
      "source": [
        "# Zip foodvision_big folder but exclude certain files\n",
        "!cd demos/stanford_cars && zip -r ../stanford_cars.zip * -x \"*.pyc\" \"*.ipynb\" \"*__pycache__*\" \"*ipynb_checkpoints*\"\n",
        "\n",
        "# Download the zipped Stanford_cars Big app (if running in Google Colab)\n",
        "try:\n",
        "    from google.colab import files\n",
        "    files.download(\"demos/stanford_cars.zip\")\n",
        "except:\n",
        "    print(\"Not running in Google Colab, can't use google.colab.files.download()\")"
      ],
      "metadata": {
        "colab": {
          "base_uri": "https://localhost:8080/",
          "height": 156
        },
        "id": "CwL-ExC0xuLd",
        "outputId": "2a4b9d41-5712-4a6e-9a13-28db8e35cd14"
      },
      "execution_count": null,
      "outputs": [
        {
          "output_type": "stream",
          "name": "stdout",
          "text": [
            "updating: app.py (deflated 53%)\n",
            "updating: class_names.txt (deflated 68%)\n",
            "updating: examples/ (stored 0%)\n",
            "updating: examples/00002.jpg (deflated 0%)\n",
            "updating: examples/00007.jpg (deflated 1%)\n",
            "updating: examples/00001.jpg (deflated 6%)\n",
            "updating: pretrained_effnetb0_stanford_cars_20_percent.pth (deflated 8%)\n",
            "  adding: model.py (deflated 56%)\n"
          ]
        },
        {
          "output_type": "display_data",
          "data": {
            "text/plain": [
              "<IPython.core.display.Javascript object>"
            ],
            "application/javascript": [
              "\n",
              "    async function download(id, filename, size) {\n",
              "      if (!google.colab.kernel.accessAllowed) {\n",
              "        return;\n",
              "      }\n",
              "      const div = document.createElement('div');\n",
              "      const label = document.createElement('label');\n",
              "      label.textContent = `Downloading \"${filename}\": `;\n",
              "      div.appendChild(label);\n",
              "      const progress = document.createElement('progress');\n",
              "      progress.max = size;\n",
              "      div.appendChild(progress);\n",
              "      document.body.appendChild(div);\n",
              "\n",
              "      const buffers = [];\n",
              "      let downloaded = 0;\n",
              "\n",
              "      const channel = await google.colab.kernel.comms.open(id);\n",
              "      // Send a message to notify the kernel that we're ready.\n",
              "      channel.send({})\n",
              "\n",
              "      for await (const message of channel.messages) {\n",
              "        // Send a message to notify the kernel that we're ready.\n",
              "        channel.send({})\n",
              "        if (message.buffers) {\n",
              "          for (const buffer of message.buffers) {\n",
              "            buffers.push(buffer);\n",
              "            downloaded += buffer.byteLength;\n",
              "            progress.value = downloaded;\n",
              "          }\n",
              "        }\n",
              "      }\n",
              "      const blob = new Blob(buffers, {type: 'application/binary'});\n",
              "      const a = document.createElement('a');\n",
              "      a.href = window.URL.createObjectURL(blob);\n",
              "      a.download = filename;\n",
              "      div.appendChild(a);\n",
              "      a.click();\n",
              "      div.remove();\n",
              "    }\n",
              "  "
            ]
          },
          "metadata": {}
        },
        {
          "output_type": "display_data",
          "data": {
            "text/plain": [
              "<IPython.core.display.Javascript object>"
            ],
            "application/javascript": [
              "download(\"download_5c391a2b-cd6c-48fb-8d2e-799775f909f9\", \"stanford_cars.zip\", 20833477)"
            ]
          },
          "metadata": {}
        }
      ]
    },
    {
      "cell_type": "code",
      "source": [
        "next(effnetb0.parameters()).is_cuda"
      ],
      "metadata": {
        "colab": {
          "base_uri": "https://localhost:8080/"
        },
        "id": "YDUaDvyTyAl7",
        "outputId": "014145d2-4170-40ac-fee0-fc8a0aad1b07"
      },
      "execution_count": null,
      "outputs": [
        {
          "output_type": "execute_result",
          "data": {
            "text/plain": [
              "False"
            ]
          },
          "metadata": {},
          "execution_count": 239
        }
      ]
    },
    {
      "cell_type": "code",
      "source": [],
      "metadata": {
        "id": "9NDdBnM1EXU1"
      },
      "execution_count": null,
      "outputs": []
    }
  ]
}